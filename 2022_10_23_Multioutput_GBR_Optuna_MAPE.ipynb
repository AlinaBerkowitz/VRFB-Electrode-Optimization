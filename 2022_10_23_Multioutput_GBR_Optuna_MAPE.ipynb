{
 "cells": [
  {
   "cell_type": "markdown",
   "metadata": {},
   "source": [
    "# MultiOutput Gradient Boosting Regressor"
   ]
  },
  {
   "cell_type": "code",
   "execution_count": 1,
   "metadata": {},
   "outputs": [],
   "source": [
    "import logging\n",
    "from typing import Any, Callable, Dict, List, Tuple\n",
    "\n",
    "import matplotlib.pyplot as plt\n",
    "import numpy as np\n",
    "import optuna\n",
    "import pandas as pd\n",
    "from optuna.trial import FrozenTrial, TrialState\n",
    "from sklearn.ensemble import GradientBoostingRegressor\n",
    "from sklearn.ensemble import RandomForestRegressor\n",
    "from sklearn.metrics import mean_absolute_percentage_error, mean_squared_error, r2_score\n",
    "from sklearn.model_selection import train_test_split\n",
    "from sklearn.multioutput import MultiOutputRegressor\n",
    "from sklearn import metrics, preprocessing, model_selection, pipeline, ensemble\n",
    "\n",
    "optuna.logging.set_verbosity(logging.ERROR)"
   ]
  },
  {
   "cell_type": "markdown",
   "metadata": {},
   "source": [
    "### Define Random State and Test Size"
   ]
  },
  {
   "cell_type": "code",
   "execution_count": 2,
   "metadata": {},
   "outputs": [],
   "source": [
    "RANDOM_STATE = 35\n",
    "TEST_SIZE = 0.20"
   ]
  },
  {
   "cell_type": "markdown",
   "metadata": {},
   "source": [
    "### Read In the Data"
   ]
  },
  {
   "cell_type": "code",
   "execution_count": 3,
   "metadata": {},
   "outputs": [
    {
     "data": {
      "text/html": [
       "<div>\n",
       "<style scoped>\n",
       "    .dataframe tbody tr th:only-of-type {\n",
       "        vertical-align: middle;\n",
       "    }\n",
       "\n",
       "    .dataframe tbody tr th {\n",
       "        vertical-align: top;\n",
       "    }\n",
       "\n",
       "    .dataframe thead th {\n",
       "        text-align: right;\n",
       "    }\n",
       "</style>\n",
       "<table border=\"1\" class=\"dataframe\">\n",
       "  <thead>\n",
       "    <tr style=\"text-align: right;\">\n",
       "      <th></th>\n",
       "      <th>Conductivity</th>\n",
       "      <th>CycleNumber</th>\n",
       "      <th>Porosity</th>\n",
       "      <th>Permeability</th>\n",
       "      <th>AverageFiberDiameter</th>\n",
       "      <th>MeanPoreDiameter</th>\n",
       "      <th>VoltageEfficiency</th>\n",
       "      <th>CoulombicEfficiency</th>\n",
       "      <th>EnergyEfficiency</th>\n",
       "      <th>Unnamed: 9</th>\n",
       "      <th>Unnamed: 10</th>\n",
       "      <th>Unnamed: 11</th>\n",
       "      <th>Unnamed: 12</th>\n",
       "    </tr>\n",
       "  </thead>\n",
       "  <tbody>\n",
       "    <tr>\n",
       "      <th>0</th>\n",
       "      <td>67.326517</td>\n",
       "      <td>2</td>\n",
       "      <td>0.926359</td>\n",
       "      <td>1.700000e-10</td>\n",
       "      <td>0.000014</td>\n",
       "      <td>0.000135</td>\n",
       "      <td>0.746404</td>\n",
       "      <td>0.956847</td>\n",
       "      <td>0.714195</td>\n",
       "      <td>NaN</td>\n",
       "      <td>NaN</td>\n",
       "      <td>NaN</td>\n",
       "      <td>NaN</td>\n",
       "    </tr>\n",
       "    <tr>\n",
       "      <th>1</th>\n",
       "      <td>67.326517</td>\n",
       "      <td>4</td>\n",
       "      <td>0.926359</td>\n",
       "      <td>1.700000e-10</td>\n",
       "      <td>0.000014</td>\n",
       "      <td>0.000135</td>\n",
       "      <td>0.746284</td>\n",
       "      <td>0.957371</td>\n",
       "      <td>0.714470</td>\n",
       "      <td>NaN</td>\n",
       "      <td>NaN</td>\n",
       "      <td>NaN</td>\n",
       "      <td>NaN</td>\n",
       "    </tr>\n",
       "    <tr>\n",
       "      <th>2</th>\n",
       "      <td>67.326517</td>\n",
       "      <td>5</td>\n",
       "      <td>0.926359</td>\n",
       "      <td>1.700000e-10</td>\n",
       "      <td>0.000014</td>\n",
       "      <td>0.000135</td>\n",
       "      <td>0.746303</td>\n",
       "      <td>0.957180</td>\n",
       "      <td>0.714346</td>\n",
       "      <td>NaN</td>\n",
       "      <td>NaN</td>\n",
       "      <td>NaN</td>\n",
       "      <td>NaN</td>\n",
       "    </tr>\n",
       "    <tr>\n",
       "      <th>3</th>\n",
       "      <td>67.326517</td>\n",
       "      <td>6</td>\n",
       "      <td>0.926359</td>\n",
       "      <td>1.700000e-10</td>\n",
       "      <td>0.000014</td>\n",
       "      <td>0.000135</td>\n",
       "      <td>0.746261</td>\n",
       "      <td>0.956961</td>\n",
       "      <td>0.714142</td>\n",
       "      <td>NaN</td>\n",
       "      <td>NaN</td>\n",
       "      <td>NaN</td>\n",
       "      <td>NaN</td>\n",
       "    </tr>\n",
       "    <tr>\n",
       "      <th>4</th>\n",
       "      <td>86.086664</td>\n",
       "      <td>2</td>\n",
       "      <td>0.818147</td>\n",
       "      <td>3.550000e-11</td>\n",
       "      <td>0.000020</td>\n",
       "      <td>0.000124</td>\n",
       "      <td>0.751707</td>\n",
       "      <td>0.952122</td>\n",
       "      <td>0.715717</td>\n",
       "      <td>NaN</td>\n",
       "      <td>NaN</td>\n",
       "      <td>NaN</td>\n",
       "      <td>NaN</td>\n",
       "    </tr>\n",
       "  </tbody>\n",
       "</table>\n",
       "</div>"
      ],
      "text/plain": [
       "   Conductivity  CycleNumber  Porosity  Permeability  AverageFiberDiameter  \\\n",
       "0     67.326517            2  0.926359  1.700000e-10              0.000014   \n",
       "1     67.326517            4  0.926359  1.700000e-10              0.000014   \n",
       "2     67.326517            5  0.926359  1.700000e-10              0.000014   \n",
       "3     67.326517            6  0.926359  1.700000e-10              0.000014   \n",
       "4     86.086664            2  0.818147  3.550000e-11              0.000020   \n",
       "\n",
       "   MeanPoreDiameter  VoltageEfficiency  CoulombicEfficiency  EnergyEfficiency  \\\n",
       "0          0.000135           0.746404             0.956847          0.714195   \n",
       "1          0.000135           0.746284             0.957371          0.714470   \n",
       "2          0.000135           0.746303             0.957180          0.714346   \n",
       "3          0.000135           0.746261             0.956961          0.714142   \n",
       "4          0.000124           0.751707             0.952122          0.715717   \n",
       "\n",
       "   Unnamed: 9  Unnamed: 10  Unnamed: 11  Unnamed: 12  \n",
       "0         NaN          NaN          NaN          NaN  \n",
       "1         NaN          NaN          NaN          NaN  \n",
       "2         NaN          NaN          NaN          NaN  \n",
       "3         NaN          NaN          NaN          NaN  \n",
       "4         NaN          NaN          NaN          NaN  "
      ]
     },
     "execution_count": 3,
     "metadata": {},
     "output_type": "execute_result"
    }
   ],
   "source": [
    "data = pd.read_csv(\"2022_08_29_AllCycles_LHS.csv\")\n",
    "data.head()"
   ]
  },
  {
   "cell_type": "markdown",
   "metadata": {},
   "source": [
    "### Define Features and Targets"
   ]
  },
  {
   "cell_type": "code",
   "execution_count": 4,
   "metadata": {},
   "outputs": [],
   "source": [
    "features = [\n",
    "    \"Conductivity\",\n",
    "    \"CycleNumber\",\n",
    "    \"Porosity\",\n",
    "    \"Permeability\",\n",
    "    \"AverageFiberDiameter\",\n",
    "    \"MeanPoreDiameter\"\n",
    "] \n",
    "\n",
    "targets =  [\n",
    "    \"VoltageEfficiency\",\n",
    "    \"CoulombicEfficiency\",\n",
    "    \"EnergyEfficiency\"\n",
    "]"
   ]
  },
  {
   "cell_type": "markdown",
   "metadata": {},
   "source": [
    "### Split Data into Training and Testing Subsets"
   ]
  },
  {
   "cell_type": "code",
   "execution_count": 5,
   "metadata": {},
   "outputs": [],
   "source": [
    "train_data, test_data = model_selection.train_test_split(data, test_size=TEST_SIZE)"
   ]
  },
  {
   "cell_type": "code",
   "execution_count": 6,
   "metadata": {},
   "outputs": [
    {
     "data": {
      "text/html": [
       "<div>\n",
       "<style scoped>\n",
       "    .dataframe tbody tr th:only-of-type {\n",
       "        vertical-align: middle;\n",
       "    }\n",
       "\n",
       "    .dataframe tbody tr th {\n",
       "        vertical-align: top;\n",
       "    }\n",
       "\n",
       "    .dataframe thead th {\n",
       "        text-align: right;\n",
       "    }\n",
       "</style>\n",
       "<table border=\"1\" class=\"dataframe\">\n",
       "  <thead>\n",
       "    <tr style=\"text-align: right;\">\n",
       "      <th></th>\n",
       "      <th>Conductivity</th>\n",
       "      <th>CycleNumber</th>\n",
       "      <th>Porosity</th>\n",
       "      <th>Permeability</th>\n",
       "      <th>AverageFiberDiameter</th>\n",
       "      <th>MeanPoreDiameter</th>\n",
       "      <th>VoltageEfficiency</th>\n",
       "      <th>CoulombicEfficiency</th>\n",
       "      <th>EnergyEfficiency</th>\n",
       "      <th>Unnamed: 9</th>\n",
       "      <th>Unnamed: 10</th>\n",
       "      <th>Unnamed: 11</th>\n",
       "      <th>Unnamed: 12</th>\n",
       "    </tr>\n",
       "  </thead>\n",
       "  <tbody>\n",
       "    <tr>\n",
       "      <th>149</th>\n",
       "      <td>104.237553</td>\n",
       "      <td>5</td>\n",
       "      <td>0.813260</td>\n",
       "      <td>2.780000e-11</td>\n",
       "      <td>0.000018</td>\n",
       "      <td>0.000143</td>\n",
       "      <td>0.755884</td>\n",
       "      <td>0.941800</td>\n",
       "      <td>0.711892</td>\n",
       "      <td>NaN</td>\n",
       "      <td>NaN</td>\n",
       "      <td>NaN</td>\n",
       "      <td>NaN</td>\n",
       "    </tr>\n",
       "    <tr>\n",
       "      <th>382</th>\n",
       "      <td>68.362214</td>\n",
       "      <td>4</td>\n",
       "      <td>0.806097</td>\n",
       "      <td>1.440000e-11</td>\n",
       "      <td>0.000014</td>\n",
       "      <td>0.000191</td>\n",
       "      <td>0.742333</td>\n",
       "      <td>0.950476</td>\n",
       "      <td>0.705570</td>\n",
       "      <td>NaN</td>\n",
       "      <td>NaN</td>\n",
       "      <td>NaN</td>\n",
       "      <td>NaN</td>\n",
       "    </tr>\n",
       "    <tr>\n",
       "      <th>332</th>\n",
       "      <td>105.866825</td>\n",
       "      <td>3</td>\n",
       "      <td>0.863991</td>\n",
       "      <td>5.250000e-11</td>\n",
       "      <td>0.000017</td>\n",
       "      <td>0.000183</td>\n",
       "      <td>0.756375</td>\n",
       "      <td>0.953790</td>\n",
       "      <td>0.721423</td>\n",
       "      <td>NaN</td>\n",
       "      <td>NaN</td>\n",
       "      <td>NaN</td>\n",
       "      <td>NaN</td>\n",
       "    </tr>\n",
       "    <tr>\n",
       "      <th>59</th>\n",
       "      <td>75.633303</td>\n",
       "      <td>3</td>\n",
       "      <td>0.751791</td>\n",
       "      <td>8.230000e-12</td>\n",
       "      <td>0.000015</td>\n",
       "      <td>0.000141</td>\n",
       "      <td>0.746558</td>\n",
       "      <td>0.912899</td>\n",
       "      <td>0.681532</td>\n",
       "      <td>NaN</td>\n",
       "      <td>NaN</td>\n",
       "      <td>NaN</td>\n",
       "      <td>NaN</td>\n",
       "    </tr>\n",
       "    <tr>\n",
       "      <th>115</th>\n",
       "      <td>102.883400</td>\n",
       "      <td>2</td>\n",
       "      <td>0.900617</td>\n",
       "      <td>1.040000e-09</td>\n",
       "      <td>0.000010</td>\n",
       "      <td>0.000111</td>\n",
       "      <td>0.760353</td>\n",
       "      <td>0.952827</td>\n",
       "      <td>0.724485</td>\n",
       "      <td>NaN</td>\n",
       "      <td>NaN</td>\n",
       "      <td>NaN</td>\n",
       "      <td>NaN</td>\n",
       "    </tr>\n",
       "  </tbody>\n",
       "</table>\n",
       "</div>"
      ],
      "text/plain": [
       "     Conductivity  CycleNumber  Porosity  Permeability  AverageFiberDiameter  \\\n",
       "149    104.237553            5  0.813260  2.780000e-11              0.000018   \n",
       "382     68.362214            4  0.806097  1.440000e-11              0.000014   \n",
       "332    105.866825            3  0.863991  5.250000e-11              0.000017   \n",
       "59      75.633303            3  0.751791  8.230000e-12              0.000015   \n",
       "115    102.883400            2  0.900617  1.040000e-09              0.000010   \n",
       "\n",
       "     MeanPoreDiameter  VoltageEfficiency  CoulombicEfficiency  \\\n",
       "149          0.000143           0.755884             0.941800   \n",
       "382          0.000191           0.742333             0.950476   \n",
       "332          0.000183           0.756375             0.953790   \n",
       "59           0.000141           0.746558             0.912899   \n",
       "115          0.000111           0.760353             0.952827   \n",
       "\n",
       "     EnergyEfficiency  Unnamed: 9  Unnamed: 10  Unnamed: 11  Unnamed: 12  \n",
       "149          0.711892         NaN          NaN          NaN          NaN  \n",
       "382          0.705570         NaN          NaN          NaN          NaN  \n",
       "332          0.721423         NaN          NaN          NaN          NaN  \n",
       "59           0.681532         NaN          NaN          NaN          NaN  \n",
       "115          0.724485         NaN          NaN          NaN          NaN  "
      ]
     },
     "execution_count": 6,
     "metadata": {},
     "output_type": "execute_result"
    }
   ],
   "source": [
    "train_data.head()"
   ]
  },
  {
   "cell_type": "code",
   "execution_count": 7,
   "metadata": {},
   "outputs": [],
   "source": [
    "x_train = train_data[features]\n",
    "y_train = train_data[targets]\n",
    "\n",
    "x_test = test_data[features]\n",
    "y_test = test_data[targets]"
   ]
  },
  {
   "cell_type": "markdown",
   "metadata": {},
   "source": [
    "### Define Model Scoring Metrics \n",
    "- Root Mean Squared Error (RMSE) \n",
    "- Mean Absolute Percentage Error (MAPE)"
   ]
  },
  {
   "cell_type": "code",
   "execution_count": 8,
   "metadata": {},
   "outputs": [],
   "source": [
    "def print_results(y_true: np.ndarray, y_pred: np.ndarray) -> None:\n",
    "    print(f\"RMSE = {mean_squared_error(y_true, y_pred, squared=False):,.6f}\")\n",
    "    print(f\"MAPE = {mean_absolute_percentage_error(y_true, y_pred):.5%}\")\n"
   ]
  },
  {
   "cell_type": "markdown",
   "metadata": {},
   "source": [
    "### Baseline Multioutput Gradient Boosting Regressor \n",
    "**Baseline**: Before Hyperparameter Tuning to get Final Surrogate Model"
   ]
  },
  {
   "cell_type": "markdown",
   "metadata": {},
   "source": [
    "#### Training the Model and Printing the MAPE and RMSE Scores for the Testing Data and Training Data, Respectively"
   ]
  },
  {
   "cell_type": "code",
   "execution_count": 9,
   "metadata": {},
   "outputs": [
    {
     "name": "stdout",
     "output_type": "stream",
     "text": [
      "RMSE = 0.005093\n",
      "MAPE = 0.31255%\n"
     ]
    }
   ],
   "source": [
    "model = MultiOutputRegressor(GradientBoostingRegressor())\n",
    "model.fit(x_train, y_train)\n",
    "y_pred = model.predict(x_test)\n",
    "print_results(y_test, y_pred)"
   ]
  },
  {
   "cell_type": "code",
   "execution_count": 10,
   "metadata": {},
   "outputs": [
    {
     "name": "stdout",
     "output_type": "stream",
     "text": [
      "RMSE = 0.002286\n",
      "MAPE = 0.14714%\n"
     ]
    }
   ],
   "source": [
    "y_pred_train = model.predict(x_train)\n",
    "print_results(y_train, y_pred_train)"
   ]
  },
  {
   "cell_type": "markdown",
   "metadata": {},
   "source": [
    "### Creating Optuna Study for the Baseline GBR Model"
   ]
  },
  {
   "cell_type": "code",
   "execution_count": 11,
   "metadata": {},
   "outputs": [],
   "source": [
    "ResponseVector = Tuple[float, float, float, float, float, float]\n",
    "ObjectiveFunction = Callable[[optuna.Trial], ResponseVector]\n",
    "\n",
    "\n",
    "def create_objective(model: MultiOutputRegressor) -> ObjectiveFunction:\n",
    "    def objective(trial: optuna.Trial) -> ResponseVector:\n",
    "        x = [\n",
    "            trial.suggest_float(\"Conductivity\", 61.32085384, 109.7652427),\n",
    "            trial.suggest_float(\"CycleNumber\", 2, 6),\n",
    "            trial.suggest_float(\"Porosity\", 0.7217427, 0.949060441),\n",
    "            trial.suggest_float(\"Permeability\", 4.40E-12, 1.14E-09),\n",
    "            trial.suggest_float(\"AverageFiberDiameter\", 1.00E-05, 2.00E-05),\n",
    "            trial.suggest_float(\"MeanPoreDiameter\", 0.0001, 0.000198985)\n",
    "        ]\n",
    "        x = pd.DataFrame([x], columns=features)\n",
    "        y = model.predict(x)\n",
    "        return tuple(y.ravel())\n",
    "\n",
    "    return objective"
   ]
  },
  {
   "cell_type": "code",
   "execution_count": 12,
   "metadata": {},
   "outputs": [],
   "source": [
    "study = optuna.study.create_study(\n",
    "    storage=\"sqlite:///2022_10_23_MultiOutputRegressor_GBR.db\",\n",
    "    sampler=optuna.samplers.NSGAIISampler(),\n",
    "    study_name=\"OptunaTrial_35_GBR\",\n",
    "    load_if_exists=True,\n",
    "    directions=[\"maximize\" for _ in range(len(targets))],\n",
    ")"
   ]
  },
  {
   "cell_type": "code",
   "execution_count": 13,
   "metadata": {},
   "outputs": [],
   "source": [
    "model = MultiOutputRegressor(GradientBoostingRegressor())\n",
    "model.fit(x_train, y_train)\n",
    "objective_function = create_objective(model)"
   ]
  },
  {
   "cell_type": "code",
   "execution_count": 14,
   "metadata": {},
   "outputs": [
    {
     "name": "stderr",
     "output_type": "stream",
     "text": [
      "/opt/anaconda3/envs/PythonTutorials/lib/python3.7/site-packages/optuna/progress_bar.py:47: ExperimentalWarning: Progress bar is experimental (supported from v1.2.0). The interface can change in the future.\n",
      "  self._init_valid()\n"
     ]
    },
    {
     "data": {
      "application/vnd.jupyter.widget-view+json": {
       "model_id": "4a5fd685c486444392989fb9c2261d0d",
       "version_major": 2,
       "version_minor": 0
      },
      "text/plain": [
       "  0%|          | 0/250 [00:00<?, ?it/s]"
      ]
     },
     "metadata": {},
     "output_type": "display_data"
    }
   ],
   "source": [
    "study.optimize(objective_function, n_trials=250, show_progress_bar=True)"
   ]
  },
  {
   "cell_type": "code",
   "execution_count": 15,
   "metadata": {},
   "outputs": [],
   "source": [
    "def frozen_trials_to_frame(trials: List[FrozenTrial]) -> pd.DataFrame:\n",
    "    return pd.DataFrame([frozen_trial_to_dict(trial) for trial in trials])\n",
    "\n",
    "\n",
    "def frozen_trial_to_dict(trial: FrozenTrial) -> Dict[str, Any]:\n",
    "    return {\n",
    "        \"number\": trial.number,\n",
    "        \"state\": trial.state,\n",
    "        \"values\": trial.values,\n",
    "        \"datetime_start\": trial.datetime_start,\n",
    "        \"datetime_complete\": trial.datetime_complete,\n",
    "        \"params\": trial.params,\n",
    "        \"distributions\": trial.distributions,\n",
    "        \"user_attrs\": trial.user_attrs,\n",
    "        \"system_attrs\": trial.system_attrs,\n",
    "        \"intermediate_values\": trial.intermediate_values,\n",
    "    }"
   ]
  },
  {
   "cell_type": "code",
   "execution_count": 16,
   "metadata": {},
   "outputs": [
    {
     "data": {
      "text/plain": [
       "{'Conductivity': 108.28379058632942,\n",
       " 'CycleNumber': 5.599871489767488,\n",
       " 'Porosity': 0.9267730938856802,\n",
       " 'Permeability': 6.679223673475659e-10,\n",
       " 'AverageFiberDiameter': 1.992131983791198e-05,\n",
       " 'MeanPoreDiameter': 0.00012736467870438486}"
      ]
     },
     "execution_count": 16,
     "metadata": {},
     "output_type": "execute_result"
    }
   ],
   "source": [
    "## Make Sure ascending is equal to false\n",
    "trials = frozen_trials_to_frame(study.get_trials())\n",
    "trials = trials.loc[trials[\"state\"] == TrialState.COMPLETE]\n",
    "trials[\"max_value\"] = trials[\"values\"].apply(np.max)\n",
    "trials[\"mean_value\"] = trials[\"values\"].apply(np.mean)\n",
    "trials.sort_values(by=[\"max_value\"], ascending=False, inplace=True)\n",
    "trials.iloc[0].loc[\"params\"]\n"
   ]
  },
  {
   "cell_type": "code",
   "execution_count": 17,
   "metadata": {},
   "outputs": [
    {
     "data": {
      "text/plain": [
       "386    {'Conductivity': 108.28379058632942, 'CycleNum...\n",
       "353    {'Conductivity': 108.28379058632942, 'CycleNum...\n",
       "459    {'Conductivity': 108.28379058632942, 'CycleNum...\n",
       "467    {'Conductivity': 108.28379058632942, 'CycleNum...\n",
       "282    {'Conductivity': 108.28379058632942, 'CycleNum...\n",
       "387    {'Conductivity': 108.28379058632942, 'CycleNum...\n",
       "442    {'Conductivity': 108.28379058632942, 'CycleNum...\n",
       "477    {'Conductivity': 108.28379058632942, 'CycleNum...\n",
       "430    {'Conductivity': 108.28379058632942, 'CycleNum...\n",
       "405    {'Conductivity': 108.28379058632942, 'CycleNum...\n",
       "Name: params, dtype: object"
      ]
     },
     "execution_count": 17,
     "metadata": {},
     "output_type": "execute_result"
    }
   ],
   "source": [
    "trials.params.iloc[:10]"
   ]
  },
  {
   "cell_type": "code",
   "execution_count": 18,
   "metadata": {},
   "outputs": [
    {
     "data": {
      "text/html": [
       "<div>\n",
       "<style scoped>\n",
       "    .dataframe tbody tr th:only-of-type {\n",
       "        vertical-align: middle;\n",
       "    }\n",
       "\n",
       "    .dataframe tbody tr th {\n",
       "        vertical-align: top;\n",
       "    }\n",
       "\n",
       "    .dataframe thead th {\n",
       "        text-align: right;\n",
       "    }\n",
       "</style>\n",
       "<table border=\"1\" class=\"dataframe\">\n",
       "  <thead>\n",
       "    <tr style=\"text-align: right;\">\n",
       "      <th></th>\n",
       "      <th>Conductivity</th>\n",
       "      <th>CycleNumber</th>\n",
       "      <th>Porosity</th>\n",
       "      <th>Permeability</th>\n",
       "      <th>AverageFiberDiameter</th>\n",
       "      <th>MeanPoreDiameter</th>\n",
       "    </tr>\n",
       "  </thead>\n",
       "  <tbody>\n",
       "    <tr>\n",
       "      <th>386</th>\n",
       "      <td>108.283791</td>\n",
       "      <td>5.599871</td>\n",
       "      <td>0.926773</td>\n",
       "      <td>6.679224e-10</td>\n",
       "      <td>0.000020</td>\n",
       "      <td>0.000127</td>\n",
       "    </tr>\n",
       "    <tr>\n",
       "      <th>353</th>\n",
       "      <td>108.283791</td>\n",
       "      <td>4.553355</td>\n",
       "      <td>0.926773</td>\n",
       "      <td>1.111423e-09</td>\n",
       "      <td>0.000019</td>\n",
       "      <td>0.000127</td>\n",
       "    </tr>\n",
       "    <tr>\n",
       "      <th>459</th>\n",
       "      <td>108.283791</td>\n",
       "      <td>4.553355</td>\n",
       "      <td>0.926773</td>\n",
       "      <td>6.679224e-10</td>\n",
       "      <td>0.000019</td>\n",
       "      <td>0.000127</td>\n",
       "    </tr>\n",
       "    <tr>\n",
       "      <th>467</th>\n",
       "      <td>108.283791</td>\n",
       "      <td>5.618011</td>\n",
       "      <td>0.926773</td>\n",
       "      <td>7.642720e-10</td>\n",
       "      <td>0.000019</td>\n",
       "      <td>0.000127</td>\n",
       "    </tr>\n",
       "    <tr>\n",
       "      <th>282</th>\n",
       "      <td>108.283791</td>\n",
       "      <td>5.618011</td>\n",
       "      <td>0.926773</td>\n",
       "      <td>1.478988e-10</td>\n",
       "      <td>0.000019</td>\n",
       "      <td>0.000127</td>\n",
       "    </tr>\n",
       "    <tr>\n",
       "      <th>387</th>\n",
       "      <td>108.283791</td>\n",
       "      <td>5.600676</td>\n",
       "      <td>0.926773</td>\n",
       "      <td>8.033383e-10</td>\n",
       "      <td>0.000019</td>\n",
       "      <td>0.000127</td>\n",
       "    </tr>\n",
       "    <tr>\n",
       "      <th>442</th>\n",
       "      <td>108.283791</td>\n",
       "      <td>5.618011</td>\n",
       "      <td>0.926773</td>\n",
       "      <td>1.478988e-10</td>\n",
       "      <td>0.000019</td>\n",
       "      <td>0.000127</td>\n",
       "    </tr>\n",
       "    <tr>\n",
       "      <th>477</th>\n",
       "      <td>108.283791</td>\n",
       "      <td>5.618011</td>\n",
       "      <td>0.926773</td>\n",
       "      <td>1.478988e-10</td>\n",
       "      <td>0.000019</td>\n",
       "      <td>0.000127</td>\n",
       "    </tr>\n",
       "    <tr>\n",
       "      <th>430</th>\n",
       "      <td>108.283791</td>\n",
       "      <td>5.625892</td>\n",
       "      <td>0.922408</td>\n",
       "      <td>4.492128e-10</td>\n",
       "      <td>0.000019</td>\n",
       "      <td>0.000156</td>\n",
       "    </tr>\n",
       "    <tr>\n",
       "      <th>405</th>\n",
       "      <td>108.283791</td>\n",
       "      <td>3.655492</td>\n",
       "      <td>0.893776</td>\n",
       "      <td>4.492128e-10</td>\n",
       "      <td>0.000019</td>\n",
       "      <td>0.000127</td>\n",
       "    </tr>\n",
       "  </tbody>\n",
       "</table>\n",
       "</div>"
      ],
      "text/plain": [
       "     Conductivity  CycleNumber  Porosity  Permeability  AverageFiberDiameter  \\\n",
       "386    108.283791     5.599871  0.926773  6.679224e-10              0.000020   \n",
       "353    108.283791     4.553355  0.926773  1.111423e-09              0.000019   \n",
       "459    108.283791     4.553355  0.926773  6.679224e-10              0.000019   \n",
       "467    108.283791     5.618011  0.926773  7.642720e-10              0.000019   \n",
       "282    108.283791     5.618011  0.926773  1.478988e-10              0.000019   \n",
       "387    108.283791     5.600676  0.926773  8.033383e-10              0.000019   \n",
       "442    108.283791     5.618011  0.926773  1.478988e-10              0.000019   \n",
       "477    108.283791     5.618011  0.926773  1.478988e-10              0.000019   \n",
       "430    108.283791     5.625892  0.922408  4.492128e-10              0.000019   \n",
       "405    108.283791     3.655492  0.893776  4.492128e-10              0.000019   \n",
       "\n",
       "     MeanPoreDiameter  \n",
       "386          0.000127  \n",
       "353          0.000127  \n",
       "459          0.000127  \n",
       "467          0.000127  \n",
       "282          0.000127  \n",
       "387          0.000127  \n",
       "442          0.000127  \n",
       "477          0.000127  \n",
       "430          0.000156  \n",
       "405          0.000127  "
      ]
     },
     "execution_count": 18,
     "metadata": {},
     "output_type": "execute_result"
    }
   ],
   "source": [
    "top_ten_design_params = trials.params.iloc[:10]\n",
    "top_ten_design_params = pd.DataFrame.from_records(top_ten_design_params.to_list(), index=top_ten_design_params.index)\n",
    "top_ten_design_params"
   ]
  },
  {
   "cell_type": "code",
   "execution_count": 19,
   "metadata": {},
   "outputs": [
    {
     "data": {
      "text/html": [
       "<div>\n",
       "<style scoped>\n",
       "    .dataframe tbody tr th:only-of-type {\n",
       "        vertical-align: middle;\n",
       "    }\n",
       "\n",
       "    .dataframe tbody tr th {\n",
       "        vertical-align: top;\n",
       "    }\n",
       "\n",
       "    .dataframe thead th {\n",
       "        text-align: right;\n",
       "    }\n",
       "</style>\n",
       "<table border=\"1\" class=\"dataframe\">\n",
       "  <thead>\n",
       "    <tr style=\"text-align: right;\">\n",
       "      <th></th>\n",
       "      <th>VoltageEfficiency</th>\n",
       "      <th>CoulombicEfficiency</th>\n",
       "      <th>EnergyEfficiency</th>\n",
       "    </tr>\n",
       "  </thead>\n",
       "  <tbody>\n",
       "    <tr>\n",
       "      <th>386</th>\n",
       "      <td>0.758860</td>\n",
       "      <td>0.964739</td>\n",
       "      <td>0.731888</td>\n",
       "    </tr>\n",
       "    <tr>\n",
       "      <th>353</th>\n",
       "      <td>0.759042</td>\n",
       "      <td>0.964469</td>\n",
       "      <td>0.731592</td>\n",
       "    </tr>\n",
       "    <tr>\n",
       "      <th>459</th>\n",
       "      <td>0.759042</td>\n",
       "      <td>0.964469</td>\n",
       "      <td>0.731592</td>\n",
       "    </tr>\n",
       "    <tr>\n",
       "      <th>467</th>\n",
       "      <td>0.759042</td>\n",
       "      <td>0.964465</td>\n",
       "      <td>0.731592</td>\n",
       "    </tr>\n",
       "    <tr>\n",
       "      <th>282</th>\n",
       "      <td>0.759042</td>\n",
       "      <td>0.964465</td>\n",
       "      <td>0.731592</td>\n",
       "    </tr>\n",
       "    <tr>\n",
       "      <th>387</th>\n",
       "      <td>0.759042</td>\n",
       "      <td>0.964465</td>\n",
       "      <td>0.731592</td>\n",
       "    </tr>\n",
       "    <tr>\n",
       "      <th>442</th>\n",
       "      <td>0.759042</td>\n",
       "      <td>0.964465</td>\n",
       "      <td>0.731592</td>\n",
       "    </tr>\n",
       "    <tr>\n",
       "      <th>477</th>\n",
       "      <td>0.759042</td>\n",
       "      <td>0.964465</td>\n",
       "      <td>0.731592</td>\n",
       "    </tr>\n",
       "    <tr>\n",
       "      <th>430</th>\n",
       "      <td>0.758531</td>\n",
       "      <td>0.964137</td>\n",
       "      <td>0.731078</td>\n",
       "    </tr>\n",
       "    <tr>\n",
       "      <th>405</th>\n",
       "      <td>0.758492</td>\n",
       "      <td>0.963203</td>\n",
       "      <td>0.729482</td>\n",
       "    </tr>\n",
       "  </tbody>\n",
       "</table>\n",
       "</div>"
      ],
      "text/plain": [
       "     VoltageEfficiency  CoulombicEfficiency  EnergyEfficiency\n",
       "386           0.758860             0.964739          0.731888\n",
       "353           0.759042             0.964469          0.731592\n",
       "459           0.759042             0.964469          0.731592\n",
       "467           0.759042             0.964465          0.731592\n",
       "282           0.759042             0.964465          0.731592\n",
       "387           0.759042             0.964465          0.731592\n",
       "442           0.759042             0.964465          0.731592\n",
       "477           0.759042             0.964465          0.731592\n",
       "430           0.758531             0.964137          0.731078\n",
       "405           0.758492             0.963203          0.729482"
      ]
     },
     "execution_count": 19,
     "metadata": {},
     "output_type": "execute_result"
    }
   ],
   "source": [
    "pd.DataFrame(model.predict(top_ten_design_params), columns=targets, index=top_ten_design_params.index)"
   ]
  },
  {
   "cell_type": "markdown",
   "metadata": {},
   "source": [
    "# Hyperparameter Tuning Using Bayesian Methods and NSGA-II Optimizer "
   ]
  },
  {
   "cell_type": "markdown",
   "metadata": {},
   "source": [
    "### Creating the Optuna Study with the Hyperparameters "
   ]
  },
  {
   "cell_type": "code",
   "execution_count": 20,
   "metadata": {},
   "outputs": [],
   "source": [
    "def hyperparameter_objective(trial: optuna.Trial) -> float:\n",
    "    hyperparams = {\n",
    "        \"learning_rate\": trial.suggest_float(\"learning_rate\", 0.0001, 1, log=True),\n",
    "        \"subsample\": trial.suggest_float(\"subsample\", 0.5, 0.95),\n",
    "        \"min_samples_split\": trial.suggest_int(\"min_samples_split\", 2, 200),\n",
    "        \"max_depth\": trial.suggest_int(\"max_depth\", 1, 50),\n",
    "        \"alpha\": trial.suggest_float(\"alpha\", 0.001, 0.99)\n",
    "    }\n",
    "\n",
    "    model = MultiOutputRegressor(GradientBoostingRegressor(\n",
    "            n_estimators=1_000,\n",
    "            n_iter_no_change=10,\n",
    "            random_state=RANDOM_STATE,\n",
    "            **hyperparams,\n",
    "        )\n",
    "    )\n",
    "    model.fit(x_train, y_train)\n",
    "\n",
    "    y_pred = model.predict(x_test)\n",
    "    MAPE = mean_absolute_percentage_error(\n",
    "        y_test, y_pred, multioutput=\"uniform_average\"#, squared=False\n",
    "    )\n",
    "    return MAPE"
   ]
  },
  {
   "cell_type": "code",
   "execution_count": 21,
   "metadata": {},
   "outputs": [],
   "source": [
    "model_selection_study = optuna.study.create_study(\n",
    "    storage=\"sqlite:///model_selection.db\",\n",
    "    sampler=optuna.samplers.NSGAIISampler(),\n",
    "    study_name=\"OptunaTrial_35_GBR\",\n",
    "    load_if_exists=True,\n",
    "    direction=\"minimize\",\n",
    ")"
   ]
  },
  {
   "cell_type": "code",
   "execution_count": 22,
   "metadata": {},
   "outputs": [
    {
     "name": "stderr",
     "output_type": "stream",
     "text": [
      "/opt/anaconda3/envs/PythonTutorials/lib/python3.7/site-packages/optuna/progress_bar.py:47: ExperimentalWarning: Progress bar is experimental (supported from v1.2.0). The interface can change in the future.\n",
      "  self._init_valid()\n"
     ]
    },
    {
     "data": {
      "application/vnd.jupyter.widget-view+json": {
       "model_id": "38d420ddc5134cdea09afe7bcfe354c7",
       "version_major": 2,
       "version_minor": 0
      },
      "text/plain": [
       "  0%|          | 0/250 [00:00<?, ?it/s]"
      ]
     },
     "metadata": {},
     "output_type": "display_data"
    }
   ],
   "source": [
    "model_selection_study.optimize(\n",
    "    hyperparameter_objective, n_trials=250, show_progress_bar=True\n",
    ")"
   ]
  },
  {
   "cell_type": "code",
   "execution_count": 23,
   "metadata": {},
   "outputs": [
    {
     "data": {
      "text/plain": [
       "{'learning_rate': 0.3305386167919417,\n",
       " 'subsample': 0.9256945121041953,\n",
       " 'min_samples_split': 31,\n",
       " 'max_depth': 48,\n",
       " 'alpha': 0.08947432516111173}"
      ]
     },
     "execution_count": 23,
     "metadata": {},
     "output_type": "execute_result"
    }
   ],
   "source": [
    "#Want the MAPE to be Ascending since we want the hyperparameters with the smallest Error\n",
    "trials = frozen_trials_to_frame(model_selection_study.get_trials())\n",
    "trials = trials.loc[trials[\"state\"] == TrialState.COMPLETE]\n",
    "trials[\"values\"] = trials[\"values\"].apply(lambda x: x[0])\n",
    "trials.sort_values(by=[\"values\"], ascending=True, inplace=True)\n",
    "trials.iloc[0].loc[\"params\"]"
   ]
  },
  {
   "cell_type": "code",
   "execution_count": 24,
   "metadata": {},
   "outputs": [
    {
     "name": "stdout",
     "output_type": "stream",
     "text": [
      "RMSE = 0.004512\n",
      "MAPE = 0.27929%\n"
     ]
    }
   ],
   "source": [
    "best_model = MultiOutputRegressor(\n",
    "    GradientBoostingRegressor(\n",
    "        n_estimators=1000,\n",
    "        n_iter_no_change=10,\n",
    "        random_state=RANDOM_STATE,\n",
    "        **trials.iloc[0].loc[\"params\"],\n",
    "    )\n",
    ")\n",
    "best_model.fit(x_train, y_train)\n",
    "y_pred_test = best_model.predict(x_test)\n",
    "print_results(y_test, y_pred_test)"
   ]
  },
  {
   "cell_type": "code",
   "execution_count": 25,
   "metadata": {},
   "outputs": [
    {
     "name": "stdout",
     "output_type": "stream",
     "text": [
      "RMSE = 0.002488\n",
      "MAPE = 0.16010%\n"
     ]
    }
   ],
   "source": [
    "y_pred_train = best_model.predict(x_train)\n",
    "print_results(y_train, y_pred_train)"
   ]
  },
  {
   "cell_type": "code",
   "execution_count": 26,
   "metadata": {},
   "outputs": [
    {
     "data": {
      "text/plain": [
       "{'estimator__learning_rate': [0.3305386167919417],\n",
       " 'estimator__subsample': [0.9256945121041953],\n",
       " 'estimator__min_samples_split': [31],\n",
       " 'estimator__max_depth': [48],\n",
       " 'estimator__alpha': [0.08947432516111173]}"
      ]
     },
     "execution_count": 26,
     "metadata": {},
     "output_type": "execute_result"
    }
   ],
   "source": [
    "parameters = trials.iloc[0].loc[\"params\"]\n",
    "parameters = {f\"estimator__{k}\": [v] for k,v in parameters.items()}\n",
    "parameters"
   ]
  },
  {
   "cell_type": "code",
   "execution_count": 27,
   "metadata": {},
   "outputs": [
    {
     "data": {
      "text/plain": [
       "GridSearchCV(estimator=MultiOutputRegressor(estimator=GradientBoostingRegressor()),\n",
       "             param_grid={'estimator__alpha': [0.08947432516111173],\n",
       "                         'estimator__learning_rate': [0.3305386167919417],\n",
       "                         'estimator__max_depth': [48],\n",
       "                         'estimator__min_samples_split': [31],\n",
       "                         'estimator__subsample': [0.9256945121041953]})"
      ]
     },
     "execution_count": 27,
     "metadata": {},
     "output_type": "execute_result"
    }
   ],
   "source": [
    "from sklearn.model_selection import GridSearchCV\n",
    "RandomForestRegressor\n",
    "grid_search = GridSearchCV(MultiOutputRegressor(GradientBoostingRegressor()), parameters)\n",
    "grid_search"
   ]
  },
  {
   "cell_type": "code",
   "execution_count": 28,
   "metadata": {},
   "outputs": [
    {
     "data": {
      "text/plain": [
       "GridSearchCV(estimator=MultiOutputRegressor(estimator=GradientBoostingRegressor()),\n",
       "             param_grid={'estimator__alpha': [0.08947432516111173],\n",
       "                         'estimator__learning_rate': [0.3305386167919417],\n",
       "                         'estimator__max_depth': [48],\n",
       "                         'estimator__min_samples_split': [31],\n",
       "                         'estimator__subsample': [0.9256945121041953]})"
      ]
     },
     "execution_count": 28,
     "metadata": {},
     "output_type": "execute_result"
    }
   ],
   "source": [
    "grid_search.fit(data[features], data[targets])"
   ]
  },
  {
   "cell_type": "code",
   "execution_count": 29,
   "metadata": {},
   "outputs": [
    {
     "data": {
      "text/html": [
       "<div>\n",
       "<style scoped>\n",
       "    .dataframe tbody tr th:only-of-type {\n",
       "        vertical-align: middle;\n",
       "    }\n",
       "\n",
       "    .dataframe tbody tr th {\n",
       "        vertical-align: top;\n",
       "    }\n",
       "\n",
       "    .dataframe thead th {\n",
       "        text-align: right;\n",
       "    }\n",
       "</style>\n",
       "<table border=\"1\" class=\"dataframe\">\n",
       "  <thead>\n",
       "    <tr style=\"text-align: right;\">\n",
       "      <th></th>\n",
       "      <th>0</th>\n",
       "    </tr>\n",
       "  </thead>\n",
       "  <tbody>\n",
       "    <tr>\n",
       "      <th>mean_fit_time</th>\n",
       "      <td>0.234718</td>\n",
       "    </tr>\n",
       "    <tr>\n",
       "      <th>std_fit_time</th>\n",
       "      <td>0.008271</td>\n",
       "    </tr>\n",
       "    <tr>\n",
       "      <th>mean_score_time</th>\n",
       "      <td>0.005829</td>\n",
       "    </tr>\n",
       "    <tr>\n",
       "      <th>std_score_time</th>\n",
       "      <td>0.000828</td>\n",
       "    </tr>\n",
       "    <tr>\n",
       "      <th>param_estimator__alpha</th>\n",
       "      <td>0.089474</td>\n",
       "    </tr>\n",
       "    <tr>\n",
       "      <th>param_estimator__learning_rate</th>\n",
       "      <td>0.330539</td>\n",
       "    </tr>\n",
       "    <tr>\n",
       "      <th>param_estimator__max_depth</th>\n",
       "      <td>48</td>\n",
       "    </tr>\n",
       "    <tr>\n",
       "      <th>param_estimator__min_samples_split</th>\n",
       "      <td>31</td>\n",
       "    </tr>\n",
       "    <tr>\n",
       "      <th>param_estimator__subsample</th>\n",
       "      <td>0.925695</td>\n",
       "    </tr>\n",
       "    <tr>\n",
       "      <th>params</th>\n",
       "      <td>{'estimator__alpha': 0.08947432516111173, 'est...</td>\n",
       "    </tr>\n",
       "    <tr>\n",
       "      <th>split0_test_score</th>\n",
       "      <td>0.518145</td>\n",
       "    </tr>\n",
       "    <tr>\n",
       "      <th>split1_test_score</th>\n",
       "      <td>-0.530236</td>\n",
       "    </tr>\n",
       "    <tr>\n",
       "      <th>split2_test_score</th>\n",
       "      <td>0.5874</td>\n",
       "    </tr>\n",
       "    <tr>\n",
       "      <th>split3_test_score</th>\n",
       "      <td>0.412164</td>\n",
       "    </tr>\n",
       "    <tr>\n",
       "      <th>split4_test_score</th>\n",
       "      <td>0.208537</td>\n",
       "    </tr>\n",
       "    <tr>\n",
       "      <th>mean_test_score</th>\n",
       "      <td>0.239202</td>\n",
       "    </tr>\n",
       "    <tr>\n",
       "      <th>std_test_score</th>\n",
       "      <td>0.405448</td>\n",
       "    </tr>\n",
       "    <tr>\n",
       "      <th>rank_test_score</th>\n",
       "      <td>1</td>\n",
       "    </tr>\n",
       "  </tbody>\n",
       "</table>\n",
       "</div>"
      ],
      "text/plain": [
       "                                                                                    0\n",
       "mean_fit_time                                                                0.234718\n",
       "std_fit_time                                                                 0.008271\n",
       "mean_score_time                                                              0.005829\n",
       "std_score_time                                                               0.000828\n",
       "param_estimator__alpha                                                       0.089474\n",
       "param_estimator__learning_rate                                               0.330539\n",
       "param_estimator__max_depth                                                         48\n",
       "param_estimator__min_samples_split                                                 31\n",
       "param_estimator__subsample                                                   0.925695\n",
       "params                              {'estimator__alpha': 0.08947432516111173, 'est...\n",
       "split0_test_score                                                            0.518145\n",
       "split1_test_score                                                           -0.530236\n",
       "split2_test_score                                                              0.5874\n",
       "split3_test_score                                                            0.412164\n",
       "split4_test_score                                                            0.208537\n",
       "mean_test_score                                                              0.239202\n",
       "std_test_score                                                               0.405448\n",
       "rank_test_score                                                                     1"
      ]
     },
     "execution_count": 29,
     "metadata": {},
     "output_type": "execute_result"
    }
   ],
   "source": [
    "pd.DataFrame(grid_search.cv_results_).T"
   ]
  },
  {
   "cell_type": "code",
   "execution_count": 30,
   "metadata": {},
   "outputs": [],
   "source": [
    "ResponseVectorOpt = Tuple[float, float, float, float, float, float]\n",
    "ObjectiveFunctionOpt = Callable[[optuna.Trial], ResponseVectorOpt]\n",
    "\n",
    "\n",
    "def create_objective(model: MultiOutputRegressor) -> ObjectiveFunctionOpt:\n",
    "    def objective(trial: optuna.Trial) -> ResponseVectorOpt:\n",
    "        x = [\n",
    "            trial.suggest_float(\"Conductivity\", 61.32085384, 109.7652427),\n",
    "            trial.suggest_float(\"CycleNumber\", 2, 6),\n",
    "            trial.suggest_float(\"Porosity\", 0.7217427, 0.949060441),\n",
    "            trial.suggest_float(\"Permeability\", 4.40E-12, 1.14E-09),\n",
    "            trial.suggest_float(\"AverageFiberDiameter\", 1.00E-05, 2.00E-05),\n",
    "            trial.suggest_float(\"MeanPoreDiameter\", 0.0001, 0.000198985)\n",
    "        ]\n",
    "        x = pd.DataFrame([x], columns=features)\n",
    "        y = model.predict(x)\n",
    "        return tuple(y.ravel())\n",
    "\n",
    "    return objective"
   ]
  },
  {
   "cell_type": "code",
   "execution_count": 31,
   "metadata": {},
   "outputs": [],
   "source": [
    "study = optuna.study.create_study(\n",
    "    storage=\"sqlite:///2022_10_23_MultiOutputRegressor_GBROpt.db\",\n",
    "    sampler=optuna.samplers.NSGAIISampler(),\n",
    "    study_name=\"OptunaTrial_35_GBROpt\",\n",
    "    load_if_exists=True,\n",
    "    directions=[\"maximize\" for _ in range(len(targets))],\n",
    ")"
   ]
  },
  {
   "cell_type": "code",
   "execution_count": 32,
   "metadata": {},
   "outputs": [
    {
     "data": {
      "text/plain": [
       "{'estimator__learning_rate': [0.3305386167919417],\n",
       " 'estimator__subsample': [0.9325988249887232],\n",
       " 'estimator__min_samples_split': [3],\n",
       " 'estimator__max_depth': [15],\n",
       " 'estimator__alpha': [0.3892732881795934]}"
      ]
     },
     "execution_count": 32,
     "metadata": {},
     "output_type": "execute_result"
    }
   ],
   "source": [
    "{'estimator__learning_rate': [0.3305386167919417],\n",
    " 'estimator__subsample': [0.9325988249887232],\n",
    " 'estimator__min_samples_split': [3],\n",
    " 'estimator__max_depth': [15],\n",
    " 'estimator__alpha': [0.3892732881795934]}"
   ]
  },
  {
   "cell_type": "code",
   "execution_count": 33,
   "metadata": {},
   "outputs": [],
   "source": [
    "model_opt = MultiOutputRegressor(GradientBoostingRegressor(alpha=0.3892732881795934,\n",
    "                                                           learning_rate= 0.3305386167919417,\n",
    "                                                           max_depth=15,\n",
    "                                                           min_samples_split=3,\n",
    "                                                           subsample=0.9325988249887232))\n",
    "                                                       \n",
    "                                                       \n",
    "    \n",
    "model_opt.fit(x_train, y_train)\n",
    "objective_function = create_objective(model)"
   ]
  },
  {
   "cell_type": "code",
   "execution_count": 34,
   "metadata": {},
   "outputs": [
    {
     "name": "stderr",
     "output_type": "stream",
     "text": [
      "/opt/anaconda3/envs/PythonTutorials/lib/python3.7/site-packages/optuna/progress_bar.py:47: ExperimentalWarning: Progress bar is experimental (supported from v1.2.0). The interface can change in the future.\n",
      "  self._init_valid()\n"
     ]
    },
    {
     "data": {
      "application/vnd.jupyter.widget-view+json": {
       "model_id": "336191e4e29a4895a3c683422be04671",
       "version_major": 2,
       "version_minor": 0
      },
      "text/plain": [
       "  0%|          | 0/250 [00:00<?, ?it/s]"
      ]
     },
     "metadata": {},
     "output_type": "display_data"
    }
   ],
   "source": [
    "study.optimize(objective_function, n_trials=250, show_progress_bar=True)"
   ]
  },
  {
   "cell_type": "code",
   "execution_count": 35,
   "metadata": {},
   "outputs": [],
   "source": [
    "def frozen_trials_to_frame(trials: List[FrozenTrial]) -> pd.DataFrame:\n",
    "    return pd.DataFrame([frozen_trial_to_dict(trial) for trial in trials])\n",
    "\n",
    "\n",
    "def frozen_trial_to_dict(trial: FrozenTrial) -> Dict[str, Any]:\n",
    "    return {\n",
    "        \"number\": trial.number,\n",
    "        \"state\": trial.state,\n",
    "        \"values\": trial.values,\n",
    "        \"datetime_start\": trial.datetime_start,\n",
    "        \"datetime_complete\": trial.datetime_complete,\n",
    "        \"params\": trial.params,\n",
    "        \"distributions\": trial.distributions,\n",
    "        \"user_attrs\": trial.user_attrs,\n",
    "        \"system_attrs\": trial.system_attrs,\n",
    "        \"intermediate_values\": trial.intermediate_values,\n",
    "    }"
   ]
  },
  {
   "cell_type": "code",
   "execution_count": 57,
   "metadata": {},
   "outputs": [
    {
     "data": {
      "text/plain": [
       "{'AverageFiberDiameter': 1.8245427191053035e-05,\n",
       " 'Conductivity': 68.3147704722198,\n",
       " 'CycleNumber': 3.233640045257663,\n",
       " 'MeanPoreDiameter': 0.0001957479666083721,\n",
       " 'Permeability': 1.5028237950985855e-10,\n",
       " 'Porosity': 0.7614592207112789}"
      ]
     },
     "execution_count": 57,
     "metadata": {},
     "output_type": "execute_result"
    }
   ],
   "source": [
    "trials = frozen_trials_to_frame(study.get_trials())\n",
    "trials = trials.loc[trials[\"state\"] == TrialState.COMPLETE]\n",
    "trials[\"max_value\"] = trials[\"values\"].apply(np.max)\n",
    "trials[\"mean_value\"] = trials[\"values\"].apply(np.mean)\n",
    "trials.sort_values(by=[\"max_value\"], ascending=True, inplace=True)\n",
    "trials.iloc[0].loc[\"params\"]"
   ]
  },
  {
   "cell_type": "code",
   "execution_count": 58,
   "metadata": {},
   "outputs": [
    {
     "data": {
      "text/plain": [
       "48     {'AverageFiberDiameter': 1.8245427191053035e-0...\n",
       "141    {'AverageFiberDiameter': 1.1150708949394157e-0...\n",
       "42     {'AverageFiberDiameter': 1.0147778391442922e-0...\n",
       "0      {'AverageFiberDiameter': 1.2026442628977904e-0...\n",
       "22     {'AverageFiberDiameter': 1.0608951614277198e-0...\n",
       "26     {'AverageFiberDiameter': 1.1137106494849194e-0...\n",
       "162    {'AverageFiberDiameter': 1.1826108007402182e-0...\n",
       "415    {'Conductivity': 107.39500191591281, 'CycleNum...\n",
       "293    {'Conductivity': 63.405927368538485, 'CycleNum...\n",
       "242    {'AverageFiberDiameter': 1.1380025465045386e-0...\n",
       "Name: params, dtype: object"
      ]
     },
     "execution_count": 58,
     "metadata": {},
     "output_type": "execute_result"
    }
   ],
   "source": [
    "trials.params.iloc[:10]"
   ]
  },
  {
   "cell_type": "code",
   "execution_count": 59,
   "metadata": {},
   "outputs": [],
   "source": [
    "# results = pd.DataFrame(trials.params)\n",
    "\n",
    "# results.head()"
   ]
  },
  {
   "cell_type": "code",
   "execution_count": 60,
   "metadata": {},
   "outputs": [],
   "source": [
    "# results.sort_values([\"EnergyEfficiency\"], ascending=False)"
   ]
  },
  {
   "cell_type": "code",
   "execution_count": 61,
   "metadata": {},
   "outputs": [
    {
     "data": {
      "text/html": [
       "<div>\n",
       "<style scoped>\n",
       "    .dataframe tbody tr th:only-of-type {\n",
       "        vertical-align: middle;\n",
       "    }\n",
       "\n",
       "    .dataframe tbody tr th {\n",
       "        vertical-align: top;\n",
       "    }\n",
       "\n",
       "    .dataframe thead th {\n",
       "        text-align: right;\n",
       "    }\n",
       "</style>\n",
       "<table border=\"1\" class=\"dataframe\">\n",
       "  <thead>\n",
       "    <tr style=\"text-align: right;\">\n",
       "      <th></th>\n",
       "      <th>AverageFiberDiameter</th>\n",
       "      <th>Conductivity</th>\n",
       "      <th>CycleNumber</th>\n",
       "      <th>MeanPoreDiameter</th>\n",
       "      <th>Permeability</th>\n",
       "      <th>Porosity</th>\n",
       "    </tr>\n",
       "  </thead>\n",
       "  <tbody>\n",
       "    <tr>\n",
       "      <th>48</th>\n",
       "      <td>0.000018</td>\n",
       "      <td>68.314770</td>\n",
       "      <td>3.233640</td>\n",
       "      <td>0.000196</td>\n",
       "      <td>1.502824e-10</td>\n",
       "      <td>0.761459</td>\n",
       "    </tr>\n",
       "    <tr>\n",
       "      <th>141</th>\n",
       "      <td>0.000011</td>\n",
       "      <td>74.701724</td>\n",
       "      <td>2.064380</td>\n",
       "      <td>0.000194</td>\n",
       "      <td>1.031847e-09</td>\n",
       "      <td>0.818969</td>\n",
       "    </tr>\n",
       "    <tr>\n",
       "      <th>42</th>\n",
       "      <td>0.000010</td>\n",
       "      <td>71.054193</td>\n",
       "      <td>2.932544</td>\n",
       "      <td>0.000117</td>\n",
       "      <td>6.878695e-10</td>\n",
       "      <td>0.769662</td>\n",
       "    </tr>\n",
       "    <tr>\n",
       "      <th>0</th>\n",
       "      <td>0.000012</td>\n",
       "      <td>66.633639</td>\n",
       "      <td>2.269934</td>\n",
       "      <td>0.000185</td>\n",
       "      <td>4.421823e-10</td>\n",
       "      <td>0.764098</td>\n",
       "    </tr>\n",
       "    <tr>\n",
       "      <th>22</th>\n",
       "      <td>0.000011</td>\n",
       "      <td>96.167219</td>\n",
       "      <td>2.080856</td>\n",
       "      <td>0.000184</td>\n",
       "      <td>3.114766e-10</td>\n",
       "      <td>0.735746</td>\n",
       "    </tr>\n",
       "    <tr>\n",
       "      <th>26</th>\n",
       "      <td>0.000011</td>\n",
       "      <td>93.245291</td>\n",
       "      <td>3.628675</td>\n",
       "      <td>0.000116</td>\n",
       "      <td>7.610185e-10</td>\n",
       "      <td>0.755395</td>\n",
       "    </tr>\n",
       "    <tr>\n",
       "      <th>162</th>\n",
       "      <td>0.000012</td>\n",
       "      <td>106.230795</td>\n",
       "      <td>2.676809</td>\n",
       "      <td>0.000100</td>\n",
       "      <td>1.129623e-09</td>\n",
       "      <td>0.755251</td>\n",
       "    </tr>\n",
       "    <tr>\n",
       "      <th>415</th>\n",
       "      <td>0.000019</td>\n",
       "      <td>107.395002</td>\n",
       "      <td>3.553031</td>\n",
       "      <td>0.000100</td>\n",
       "      <td>9.988287e-10</td>\n",
       "      <td>0.943366</td>\n",
       "    </tr>\n",
       "    <tr>\n",
       "      <th>293</th>\n",
       "      <td>0.000019</td>\n",
       "      <td>63.405927</td>\n",
       "      <td>5.679608</td>\n",
       "      <td>0.000100</td>\n",
       "      <td>2.224271e-10</td>\n",
       "      <td>0.944782</td>\n",
       "    </tr>\n",
       "    <tr>\n",
       "      <th>242</th>\n",
       "      <td>0.000011</td>\n",
       "      <td>98.242651</td>\n",
       "      <td>4.598581</td>\n",
       "      <td>0.000135</td>\n",
       "      <td>8.391054e-10</td>\n",
       "      <td>0.755553</td>\n",
       "    </tr>\n",
       "  </tbody>\n",
       "</table>\n",
       "</div>"
      ],
      "text/plain": [
       "     AverageFiberDiameter  Conductivity  CycleNumber  MeanPoreDiameter  \\\n",
       "48               0.000018     68.314770     3.233640          0.000196   \n",
       "141              0.000011     74.701724     2.064380          0.000194   \n",
       "42               0.000010     71.054193     2.932544          0.000117   \n",
       "0                0.000012     66.633639     2.269934          0.000185   \n",
       "22               0.000011     96.167219     2.080856          0.000184   \n",
       "26               0.000011     93.245291     3.628675          0.000116   \n",
       "162              0.000012    106.230795     2.676809          0.000100   \n",
       "415              0.000019    107.395002     3.553031          0.000100   \n",
       "293              0.000019     63.405927     5.679608          0.000100   \n",
       "242              0.000011     98.242651     4.598581          0.000135   \n",
       "\n",
       "     Permeability  Porosity  \n",
       "48   1.502824e-10  0.761459  \n",
       "141  1.031847e-09  0.818969  \n",
       "42   6.878695e-10  0.769662  \n",
       "0    4.421823e-10  0.764098  \n",
       "22   3.114766e-10  0.735746  \n",
       "26   7.610185e-10  0.755395  \n",
       "162  1.129623e-09  0.755251  \n",
       "415  9.988287e-10  0.943366  \n",
       "293  2.224271e-10  0.944782  \n",
       "242  8.391054e-10  0.755553  "
      ]
     },
     "execution_count": 61,
     "metadata": {},
     "output_type": "execute_result"
    }
   ],
   "source": [
    "top_ten_design_params_tuned = trials.params.iloc[:10]\n",
    "top_ten_design_params_tuned = pd.DataFrame.from_records(top_ten_design_params_tuned.to_list(), index=top_ten_design_params_tuned.index)\n",
    "top_ten_design_params_tuned"
   ]
  },
  {
   "cell_type": "code",
   "execution_count": 62,
   "metadata": {},
   "outputs": [
    {
     "data": {
      "text/html": [
       "<div>\n",
       "<style scoped>\n",
       "    .dataframe tbody tr th:only-of-type {\n",
       "        vertical-align: middle;\n",
       "    }\n",
       "\n",
       "    .dataframe tbody tr th {\n",
       "        vertical-align: top;\n",
       "    }\n",
       "\n",
       "    .dataframe thead th {\n",
       "        text-align: right;\n",
       "    }\n",
       "</style>\n",
       "<table border=\"1\" class=\"dataframe\">\n",
       "  <thead>\n",
       "    <tr style=\"text-align: right;\">\n",
       "      <th></th>\n",
       "      <th>VoltageEfficiency</th>\n",
       "      <th>CoulombicEfficiency</th>\n",
       "      <th>EnergyEfficiency</th>\n",
       "    </tr>\n",
       "  </thead>\n",
       "  <tbody>\n",
       "    <tr>\n",
       "      <th>48</th>\n",
       "      <td>0.74331</td>\n",
       "      <td>0.951836</td>\n",
       "      <td>0.71053</td>\n",
       "    </tr>\n",
       "    <tr>\n",
       "      <th>141</th>\n",
       "      <td>0.74331</td>\n",
       "      <td>0.951836</td>\n",
       "      <td>0.71053</td>\n",
       "    </tr>\n",
       "    <tr>\n",
       "      <th>42</th>\n",
       "      <td>0.74331</td>\n",
       "      <td>0.951836</td>\n",
       "      <td>0.71053</td>\n",
       "    </tr>\n",
       "    <tr>\n",
       "      <th>0</th>\n",
       "      <td>0.74331</td>\n",
       "      <td>0.951836</td>\n",
       "      <td>0.71053</td>\n",
       "    </tr>\n",
       "    <tr>\n",
       "      <th>22</th>\n",
       "      <td>0.74331</td>\n",
       "      <td>0.951836</td>\n",
       "      <td>0.71053</td>\n",
       "    </tr>\n",
       "    <tr>\n",
       "      <th>26</th>\n",
       "      <td>0.74331</td>\n",
       "      <td>0.951836</td>\n",
       "      <td>0.71053</td>\n",
       "    </tr>\n",
       "    <tr>\n",
       "      <th>162</th>\n",
       "      <td>0.74331</td>\n",
       "      <td>0.951836</td>\n",
       "      <td>0.71053</td>\n",
       "    </tr>\n",
       "    <tr>\n",
       "      <th>415</th>\n",
       "      <td>0.74331</td>\n",
       "      <td>0.951836</td>\n",
       "      <td>0.71053</td>\n",
       "    </tr>\n",
       "    <tr>\n",
       "      <th>293</th>\n",
       "      <td>0.74331</td>\n",
       "      <td>0.951836</td>\n",
       "      <td>0.71053</td>\n",
       "    </tr>\n",
       "    <tr>\n",
       "      <th>242</th>\n",
       "      <td>0.74331</td>\n",
       "      <td>0.951836</td>\n",
       "      <td>0.71053</td>\n",
       "    </tr>\n",
       "  </tbody>\n",
       "</table>\n",
       "</div>"
      ],
      "text/plain": [
       "     VoltageEfficiency  CoulombicEfficiency  EnergyEfficiency\n",
       "48             0.74331             0.951836           0.71053\n",
       "141            0.74331             0.951836           0.71053\n",
       "42             0.74331             0.951836           0.71053\n",
       "0              0.74331             0.951836           0.71053\n",
       "22             0.74331             0.951836           0.71053\n",
       "26             0.74331             0.951836           0.71053\n",
       "162            0.74331             0.951836           0.71053\n",
       "415            0.74331             0.951836           0.71053\n",
       "293            0.74331             0.951836           0.71053\n",
       "242            0.74331             0.951836           0.71053"
      ]
     },
     "execution_count": 62,
     "metadata": {},
     "output_type": "execute_result"
    }
   ],
   "source": [
    "pd.DataFrame(model.predict(top_ten_design_params_tuned), columns=targets, index=top_ten_design_params_tuned.index)"
   ]
  },
  {
   "cell_type": "code",
   "execution_count": null,
   "metadata": {},
   "outputs": [],
   "source": []
  },
  {
   "cell_type": "code",
   "execution_count": null,
   "metadata": {},
   "outputs": [],
   "source": []
  },
  {
   "cell_type": "code",
   "execution_count": null,
   "metadata": {},
   "outputs": [],
   "source": []
  }
 ],
 "metadata": {
  "kernelspec": {
   "display_name": "Python 3",
   "language": "python",
   "name": "python3"
  },
  "language_info": {
   "codemirror_mode": {
    "name": "ipython",
    "version": 3
   },
   "file_extension": ".py",
   "mimetype": "text/x-python",
   "name": "python",
   "nbconvert_exporter": "python",
   "pygments_lexer": "ipython3",
   "version": "3.8.3"
  }
 },
 "nbformat": 4,
 "nbformat_minor": 5
}
