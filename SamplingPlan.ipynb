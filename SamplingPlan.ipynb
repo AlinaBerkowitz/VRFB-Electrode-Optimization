{
 "cells": [
  {
   "cell_type": "markdown",
   "metadata": {},
   "source": [
    "## 1. Import Python Libraries"
   ]
  },
  {
   "cell_type": "code",
   "execution_count": 1,
   "metadata": {},
   "outputs": [],
   "source": [
    "import scipy\n",
    "import pandas as pd\n",
    "import numpy as np \n",
    "import seaborn as sns\n",
    "from scipy.stats import qmc"
   ]
  },
  {
   "cell_type": "markdown",
   "metadata": {},
   "source": [
    "## 2. Setup\n",
    "\n",
    "- `FEATURE_NAMES` = Electrode Parameters\n",
    "- `LB` = Lower Bounds\n",
    "- `UB` = Upper Bounds\n",
    "- `NUM_DIMENSIONS` = Number of Features (Features that are **NOT** calculated)\n",
    "- `NUM_SAMPLES` = Number of Samples \n",
    "- `K` = Carman-Kozeny Constant"
   ]
  },
  {
   "cell_type": "code",
   "execution_count": 2,
   "metadata": {},
   "outputs": [],
   "source": [
    "FEATURE_NAMES = [\"ElectricalConductivity\", \"Porosity\", \"Avg_Fib_Diam\", \"Mean_Pore_Diam\", \"Permeability\"]\n",
    "LB = [60, 0.75, 1e-5, 1e-4]\n",
    "UB = [110, 0.95, 2e-5, 2e-4]\n",
    "NUM_DIMENSIONS = 4\n",
    "NUM_SAMPLES = 200\n",
    "K = 180\n",
    "RANDOM_STATE = 23"
   ]
  },
  {
   "cell_type": "markdown",
   "metadata": {},
   "source": [
    "## 3. Latin Hypercube Sampling `scipy.stats`"
   ]
  },
  {
   "cell_type": "code",
   "execution_count": 3,
   "metadata": {},
   "outputs": [],
   "source": [
    "hypercube = qmc.LatinHypercube(d=NUM_DIMENSIONS, seed=RANDOM_STATE)\n",
    "samples = hypercube.random(n=NUM_SAMPLES)\n",
    "scaled_samples = qmc.scale(samples, LB, UB)"
   ]
  },
  {
   "cell_type": "code",
   "execution_count": 4,
   "metadata": {},
   "outputs": [
    {
     "data": {
      "text/html": [
       "<div>\n",
       "<style scoped>\n",
       "    .dataframe tbody tr th:only-of-type {\n",
       "        vertical-align: middle;\n",
       "    }\n",
       "\n",
       "    .dataframe tbody tr th {\n",
       "        vertical-align: top;\n",
       "    }\n",
       "\n",
       "    .dataframe thead th {\n",
       "        text-align: right;\n",
       "    }\n",
       "</style>\n",
       "<table border=\"1\" class=\"dataframe\">\n",
       "  <thead>\n",
       "    <tr style=\"text-align: right;\">\n",
       "      <th></th>\n",
       "      <th>ElectricalConductivity</th>\n",
       "      <th>Porosity</th>\n",
       "      <th>Avg_Fib_Diam</th>\n",
       "      <th>Mean_Pore_Diam</th>\n",
       "    </tr>\n",
       "  </thead>\n",
       "  <tbody>\n",
       "    <tr>\n",
       "      <th>0</th>\n",
       "      <td>67.326517</td>\n",
       "      <td>0.926359</td>\n",
       "      <td>0.000014</td>\n",
       "      <td>0.000135</td>\n",
       "    </tr>\n",
       "    <tr>\n",
       "      <th>1</th>\n",
       "      <td>86.086664</td>\n",
       "      <td>0.818147</td>\n",
       "      <td>0.000020</td>\n",
       "      <td>0.000124</td>\n",
       "    </tr>\n",
       "    <tr>\n",
       "      <th>2</th>\n",
       "      <td>61.320854</td>\n",
       "      <td>0.873529</td>\n",
       "      <td>0.000018</td>\n",
       "      <td>0.000101</td>\n",
       "    </tr>\n",
       "    <tr>\n",
       "      <th>3</th>\n",
       "      <td>107.484037</td>\n",
       "      <td>0.769545</td>\n",
       "      <td>0.000017</td>\n",
       "      <td>0.000115</td>\n",
       "    </tr>\n",
       "    <tr>\n",
       "      <th>4</th>\n",
       "      <td>108.364926</td>\n",
       "      <td>0.870316</td>\n",
       "      <td>0.000017</td>\n",
       "      <td>0.000175</td>\n",
       "    </tr>\n",
       "  </tbody>\n",
       "</table>\n",
       "</div>"
      ],
      "text/plain": [
       "   ElectricalConductivity  Porosity  Avg_Fib_Diam  Mean_Pore_Diam\n",
       "0               67.326517  0.926359      0.000014        0.000135\n",
       "1               86.086664  0.818147      0.000020        0.000124\n",
       "2               61.320854  0.873529      0.000018        0.000101\n",
       "3              107.484037  0.769545      0.000017        0.000115\n",
       "4              108.364926  0.870316      0.000017        0.000175"
      ]
     },
     "execution_count": 4,
     "metadata": {},
     "output_type": "execute_result"
    }
   ],
   "source": [
    "sample_plan = pd.DataFrame(scaled_samples, columns=FEATURE_NAMES[:-1])\n",
    "sample_plan.head()"
   ]
  },
  {
   "cell_type": "markdown",
   "metadata": {},
   "source": [
    "### Calculating Permeability "
   ]
  },
  {
   "cell_type": "code",
   "execution_count": 5,
   "metadata": {},
   "outputs": [],
   "source": [
    "sample_plan[FEATURE_NAMES[-1]] = (\n",
    "    sample_plan[\"Avg_Fib_Diam\"] ** 2\n",
    "    * sample_plan[\"Porosity\"] ** 3\n",
    "    / (K * (1 - sample_plan[\"Porosity\"]) ** 2)\n",
    ")\n",
    "        "
   ]
  },
  {
   "cell_type": "code",
   "execution_count": 6,
   "metadata": {},
   "outputs": [
    {
     "data": {
      "text/html": [
       "<div>\n",
       "<style scoped>\n",
       "    .dataframe tbody tr th:only-of-type {\n",
       "        vertical-align: middle;\n",
       "    }\n",
       "\n",
       "    .dataframe tbody tr th {\n",
       "        vertical-align: top;\n",
       "    }\n",
       "\n",
       "    .dataframe thead th {\n",
       "        text-align: right;\n",
       "    }\n",
       "</style>\n",
       "<table border=\"1\" class=\"dataframe\">\n",
       "  <thead>\n",
       "    <tr style=\"text-align: right;\">\n",
       "      <th></th>\n",
       "      <th>ElectricalConductivity</th>\n",
       "      <th>Porosity</th>\n",
       "      <th>Avg_Fib_Diam</th>\n",
       "      <th>Mean_Pore_Diam</th>\n",
       "      <th>Permeability</th>\n",
       "    </tr>\n",
       "  </thead>\n",
       "  <tbody>\n",
       "    <tr>\n",
       "      <th>0</th>\n",
       "      <td>67.326517</td>\n",
       "      <td>0.926359</td>\n",
       "      <td>0.000014</td>\n",
       "      <td>0.000135</td>\n",
       "      <td>1.698905e-10</td>\n",
       "    </tr>\n",
       "    <tr>\n",
       "      <th>1</th>\n",
       "      <td>86.086664</td>\n",
       "      <td>0.818147</td>\n",
       "      <td>0.000020</td>\n",
       "      <td>0.000124</td>\n",
       "      <td>3.548597e-11</td>\n",
       "    </tr>\n",
       "    <tr>\n",
       "      <th>2</th>\n",
       "      <td>61.320854</td>\n",
       "      <td>0.873529</td>\n",
       "      <td>0.000018</td>\n",
       "      <td>0.000101</td>\n",
       "      <td>7.651234e-11</td>\n",
       "    </tr>\n",
       "    <tr>\n",
       "      <th>3</th>\n",
       "      <td>107.484037</td>\n",
       "      <td>0.769545</td>\n",
       "      <td>0.000017</td>\n",
       "      <td>0.000115</td>\n",
       "      <td>1.359119e-11</td>\n",
       "    </tr>\n",
       "    <tr>\n",
       "      <th>4</th>\n",
       "      <td>108.364926</td>\n",
       "      <td>0.870316</td>\n",
       "      <td>0.000017</td>\n",
       "      <td>0.000175</td>\n",
       "      <td>6.123377e-11</td>\n",
       "    </tr>\n",
       "  </tbody>\n",
       "</table>\n",
       "</div>"
      ],
      "text/plain": [
       "   ElectricalConductivity  Porosity  Avg_Fib_Diam  Mean_Pore_Diam  \\\n",
       "0               67.326517  0.926359      0.000014        0.000135   \n",
       "1               86.086664  0.818147      0.000020        0.000124   \n",
       "2               61.320854  0.873529      0.000018        0.000101   \n",
       "3              107.484037  0.769545      0.000017        0.000115   \n",
       "4              108.364926  0.870316      0.000017        0.000175   \n",
       "\n",
       "   Permeability  \n",
       "0  1.698905e-10  \n",
       "1  3.548597e-11  \n",
       "2  7.651234e-11  \n",
       "3  1.359119e-11  \n",
       "4  6.123377e-11  "
      ]
     },
     "execution_count": 6,
     "metadata": {},
     "output_type": "execute_result"
    }
   ],
   "source": [
    "# Printing the Final Sampling plan\n",
    "sample_plan.head()"
   ]
  },
  {
   "cell_type": "code",
   "execution_count": 7,
   "metadata": {},
   "outputs": [],
   "source": [
    "sample_plan.to_csv(\"Sampling_Plan_LatinHypercube.csv\")"
   ]
  },
  {
   "cell_type": "code",
   "execution_count": null,
   "metadata": {},
   "outputs": [],
   "source": []
  }
 ],
 "metadata": {
  "kernelspec": {
   "display_name": "Python 3",
   "language": "python",
   "name": "python3"
  },
  "language_info": {
   "codemirror_mode": {
    "name": "ipython",
    "version": 3
   },
   "file_extension": ".py",
   "mimetype": "text/x-python",
   "name": "python",
   "nbconvert_exporter": "python",
   "pygments_lexer": "ipython3",
   "version": "3.8.3"
  }
 },
 "nbformat": 4,
 "nbformat_minor": 5
}
