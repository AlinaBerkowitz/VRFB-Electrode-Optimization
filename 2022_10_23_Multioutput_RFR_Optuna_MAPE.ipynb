{
 "cells": [
  {
   "cell_type": "markdown",
   "metadata": {},
   "source": [
    "# MultiOutput Random Forest Regressor"
   ]
  },
  {
   "cell_type": "code",
   "execution_count": 1,
   "metadata": {},
   "outputs": [],
   "source": [
    "import logging\n",
    "from typing import Any, Callable, Dict, List, Tuple\n",
    "\n",
    "import matplotlib.pyplot as plt\n",
    "import numpy as np\n",
    "import optuna\n",
    "import pandas as pd\n",
    "from optuna.trial import FrozenTrial, TrialState\n",
    "from sklearn.ensemble import GradientBoostingRegressor\n",
    "from sklearn.ensemble import RandomForestRegressor\n",
    "from sklearn.metrics import mean_absolute_percentage_error, mean_squared_error, r2_score\n",
    "from sklearn.model_selection import train_test_split, KFold\n",
    "from sklearn.multioutput import MultiOutputRegressor\n",
    "from sklearn import metrics, preprocessing, model_selection, pipeline, ensemble\n",
    "\n",
    "optuna.logging.set_verbosity(logging.ERROR)"
   ]
  },
  {
   "cell_type": "markdown",
   "metadata": {},
   "source": [
    "### Define Random State and Test Size"
   ]
  },
  {
   "cell_type": "code",
   "execution_count": 2,
   "metadata": {},
   "outputs": [],
   "source": [
    "RANDOM_STATE = 107\n",
    "TEST_SIZE = 0.20"
   ]
  },
  {
   "cell_type": "markdown",
   "metadata": {},
   "source": [
    "## Read in the Data"
   ]
  },
  {
   "cell_type": "code",
   "execution_count": 3,
   "metadata": {},
   "outputs": [
    {
     "data": {
      "text/html": [
       "<div>\n",
       "<style scoped>\n",
       "    .dataframe tbody tr th:only-of-type {\n",
       "        vertical-align: middle;\n",
       "    }\n",
       "\n",
       "    .dataframe tbody tr th {\n",
       "        vertical-align: top;\n",
       "    }\n",
       "\n",
       "    .dataframe thead th {\n",
       "        text-align: right;\n",
       "    }\n",
       "</style>\n",
       "<table border=\"1\" class=\"dataframe\">\n",
       "  <thead>\n",
       "    <tr style=\"text-align: right;\">\n",
       "      <th></th>\n",
       "      <th>Conductivity</th>\n",
       "      <th>CycleNumber</th>\n",
       "      <th>Porosity</th>\n",
       "      <th>Permeability</th>\n",
       "      <th>AverageFiberDiameter</th>\n",
       "      <th>MeanPoreDiameter</th>\n",
       "      <th>VoltageEfficiency</th>\n",
       "      <th>CoulombicEfficiency</th>\n",
       "      <th>EnergyEfficiency</th>\n",
       "    </tr>\n",
       "  </thead>\n",
       "  <tbody>\n",
       "    <tr>\n",
       "      <th>0</th>\n",
       "      <td>67.326517</td>\n",
       "      <td>2</td>\n",
       "      <td>0.926359</td>\n",
       "      <td>1.700000e-10</td>\n",
       "      <td>0.000014</td>\n",
       "      <td>0.000135</td>\n",
       "      <td>0.746404</td>\n",
       "      <td>0.956847</td>\n",
       "      <td>0.714195</td>\n",
       "    </tr>\n",
       "    <tr>\n",
       "      <th>1</th>\n",
       "      <td>67.326517</td>\n",
       "      <td>4</td>\n",
       "      <td>0.926359</td>\n",
       "      <td>1.700000e-10</td>\n",
       "      <td>0.000014</td>\n",
       "      <td>0.000135</td>\n",
       "      <td>0.746284</td>\n",
       "      <td>0.957371</td>\n",
       "      <td>0.714470</td>\n",
       "    </tr>\n",
       "    <tr>\n",
       "      <th>2</th>\n",
       "      <td>67.326517</td>\n",
       "      <td>5</td>\n",
       "      <td>0.926359</td>\n",
       "      <td>1.700000e-10</td>\n",
       "      <td>0.000014</td>\n",
       "      <td>0.000135</td>\n",
       "      <td>0.746303</td>\n",
       "      <td>0.957180</td>\n",
       "      <td>0.714346</td>\n",
       "    </tr>\n",
       "    <tr>\n",
       "      <th>3</th>\n",
       "      <td>67.326517</td>\n",
       "      <td>6</td>\n",
       "      <td>0.926359</td>\n",
       "      <td>1.700000e-10</td>\n",
       "      <td>0.000014</td>\n",
       "      <td>0.000135</td>\n",
       "      <td>0.746261</td>\n",
       "      <td>0.956961</td>\n",
       "      <td>0.714142</td>\n",
       "    </tr>\n",
       "    <tr>\n",
       "      <th>4</th>\n",
       "      <td>86.086664</td>\n",
       "      <td>2</td>\n",
       "      <td>0.818147</td>\n",
       "      <td>3.550000e-11</td>\n",
       "      <td>0.000020</td>\n",
       "      <td>0.000124</td>\n",
       "      <td>0.751707</td>\n",
       "      <td>0.952122</td>\n",
       "      <td>0.715717</td>\n",
       "    </tr>\n",
       "  </tbody>\n",
       "</table>\n",
       "</div>"
      ],
      "text/plain": [
       "   Conductivity  CycleNumber  Porosity  Permeability  AverageFiberDiameter  \\\n",
       "0     67.326517            2  0.926359  1.700000e-10              0.000014   \n",
       "1     67.326517            4  0.926359  1.700000e-10              0.000014   \n",
       "2     67.326517            5  0.926359  1.700000e-10              0.000014   \n",
       "3     67.326517            6  0.926359  1.700000e-10              0.000014   \n",
       "4     86.086664            2  0.818147  3.550000e-11              0.000020   \n",
       "\n",
       "   MeanPoreDiameter  VoltageEfficiency  CoulombicEfficiency  EnergyEfficiency  \n",
       "0          0.000135           0.746404             0.956847          0.714195  \n",
       "1          0.000135           0.746284             0.957371          0.714470  \n",
       "2          0.000135           0.746303             0.957180          0.714346  \n",
       "3          0.000135           0.746261             0.956961          0.714142  \n",
       "4          0.000124           0.751707             0.952122          0.715717  "
      ]
     },
     "execution_count": 3,
     "metadata": {},
     "output_type": "execute_result"
    }
   ],
   "source": [
    "data = pd.read_csv(\"2022_08_29_AllCycles_LHS.csv\")\n",
    "data.head()"
   ]
  },
  {
   "cell_type": "markdown",
   "metadata": {},
   "source": [
    "### Define Features and Targets"
   ]
  },
  {
   "cell_type": "code",
   "execution_count": 4,
   "metadata": {},
   "outputs": [],
   "source": [
    "features = [\n",
    "    \"Conductivity\",\n",
    "    \"CycleNumber\",\n",
    "    \"Porosity\",\n",
    "    \"Permeability\",\n",
    "    \"AverageFiberDiameter\",\n",
    "    \"MeanPoreDiameter\"\n",
    "] \n",
    "\n",
    "targets =  [\n",
    "    \"VoltageEfficiency\",\n",
    "    \"CoulombicEfficiency\",\n",
    "    \"EnergyEfficiency\"\n",
    "]"
   ]
  },
  {
   "cell_type": "markdown",
   "metadata": {},
   "source": [
    "### Split into Training and Testing"
   ]
  },
  {
   "cell_type": "code",
   "execution_count": 5,
   "metadata": {},
   "outputs": [],
   "source": [
    "train_data, test_data = model_selection.train_test_split(data, test_size=TEST_SIZE)"
   ]
  },
  {
   "cell_type": "code",
   "execution_count": 6,
   "metadata": {},
   "outputs": [
    {
     "data": {
      "text/html": [
       "<div>\n",
       "<style scoped>\n",
       "    .dataframe tbody tr th:only-of-type {\n",
       "        vertical-align: middle;\n",
       "    }\n",
       "\n",
       "    .dataframe tbody tr th {\n",
       "        vertical-align: top;\n",
       "    }\n",
       "\n",
       "    .dataframe thead th {\n",
       "        text-align: right;\n",
       "    }\n",
       "</style>\n",
       "<table border=\"1\" class=\"dataframe\">\n",
       "  <thead>\n",
       "    <tr style=\"text-align: right;\">\n",
       "      <th></th>\n",
       "      <th>Conductivity</th>\n",
       "      <th>CycleNumber</th>\n",
       "      <th>Porosity</th>\n",
       "      <th>Permeability</th>\n",
       "      <th>AverageFiberDiameter</th>\n",
       "      <th>MeanPoreDiameter</th>\n",
       "      <th>VoltageEfficiency</th>\n",
       "      <th>CoulombicEfficiency</th>\n",
       "      <th>EnergyEfficiency</th>\n",
       "    </tr>\n",
       "  </thead>\n",
       "  <tbody>\n",
       "    <tr>\n",
       "      <th>380</th>\n",
       "      <td>70.792984</td>\n",
       "      <td>3</td>\n",
       "      <td>0.825773</td>\n",
       "      <td>2.569380e-11</td>\n",
       "      <td>0.000016</td>\n",
       "      <td>0.000197</td>\n",
       "      <td>0.743844</td>\n",
       "      <td>0.950800</td>\n",
       "      <td>0.707247</td>\n",
       "    </tr>\n",
       "    <tr>\n",
       "      <th>322</th>\n",
       "      <td>106.910478</td>\n",
       "      <td>2</td>\n",
       "      <td>0.899212</td>\n",
       "      <td>1.380000e-10</td>\n",
       "      <td>0.000019</td>\n",
       "      <td>0.000153</td>\n",
       "      <td>0.758319</td>\n",
       "      <td>0.956976</td>\n",
       "      <td>0.725692</td>\n",
       "    </tr>\n",
       "    <tr>\n",
       "      <th>67</th>\n",
       "      <td>105.240878</td>\n",
       "      <td>5</td>\n",
       "      <td>0.943287</td>\n",
       "      <td>5.450000e-10</td>\n",
       "      <td>0.000019</td>\n",
       "      <td>0.000166</td>\n",
       "      <td>0.759658</td>\n",
       "      <td>0.947747</td>\n",
       "      <td>0.719963</td>\n",
       "    </tr>\n",
       "    <tr>\n",
       "      <th>275</th>\n",
       "      <td>99.637067</td>\n",
       "      <td>2</td>\n",
       "      <td>0.859639</td>\n",
       "      <td>2.220000e-11</td>\n",
       "      <td>0.000011</td>\n",
       "      <td>0.000133</td>\n",
       "      <td>0.756273</td>\n",
       "      <td>0.950553</td>\n",
       "      <td>0.718878</td>\n",
       "    </tr>\n",
       "    <tr>\n",
       "      <th>170</th>\n",
       "      <td>94.810083</td>\n",
       "      <td>5</td>\n",
       "      <td>0.843651</td>\n",
       "      <td>1.720000e-11</td>\n",
       "      <td>0.000011</td>\n",
       "      <td>0.000104</td>\n",
       "      <td>0.755114</td>\n",
       "      <td>0.942012</td>\n",
       "      <td>0.711327</td>\n",
       "    </tr>\n",
       "  </tbody>\n",
       "</table>\n",
       "</div>"
      ],
      "text/plain": [
       "     Conductivity  CycleNumber  Porosity  Permeability  AverageFiberDiameter  \\\n",
       "380     70.792984            3  0.825773  2.569380e-11              0.000016   \n",
       "322    106.910478            2  0.899212  1.380000e-10              0.000019   \n",
       "67     105.240878            5  0.943287  5.450000e-10              0.000019   \n",
       "275     99.637067            2  0.859639  2.220000e-11              0.000011   \n",
       "170     94.810083            5  0.843651  1.720000e-11              0.000011   \n",
       "\n",
       "     MeanPoreDiameter  VoltageEfficiency  CoulombicEfficiency  \\\n",
       "380          0.000197           0.743844             0.950800   \n",
       "322          0.000153           0.758319             0.956976   \n",
       "67           0.000166           0.759658             0.947747   \n",
       "275          0.000133           0.756273             0.950553   \n",
       "170          0.000104           0.755114             0.942012   \n",
       "\n",
       "     EnergyEfficiency  \n",
       "380          0.707247  \n",
       "322          0.725692  \n",
       "67           0.719963  \n",
       "275          0.718878  \n",
       "170          0.711327  "
      ]
     },
     "execution_count": 6,
     "metadata": {},
     "output_type": "execute_result"
    }
   ],
   "source": [
    "train_data.head()"
   ]
  },
  {
   "cell_type": "code",
   "execution_count": 7,
   "metadata": {},
   "outputs": [],
   "source": [
    "x_train = train_data[features]\n",
    "y_train = train_data[targets]\n",
    "\n",
    "x_test = test_data[features]\n",
    "y_test = test_data[targets]"
   ]
  },
  {
   "cell_type": "markdown",
   "metadata": {},
   "source": [
    "### Define Model Scoring Metrics \n",
    "- Root Mean Squared Error (RMSE)\n",
    "- Mean Absolute Percentage Error (MAPE)"
   ]
  },
  {
   "cell_type": "code",
   "execution_count": 8,
   "metadata": {},
   "outputs": [],
   "source": [
    "def print_results(y_true: np.ndarray, y_pred: np.ndarray) -> None:\n",
    "    print(f\"RMSE = {mean_squared_error(y_true, y_pred, squared=False):,.6f}\")\n",
    "    print(f\"MAPE = {mean_absolute_percentage_error(y_true, y_pred):.5%}\")"
   ]
  },
  {
   "cell_type": "markdown",
   "metadata": {},
   "source": [
    "## Baseline Model with Multi-Output Random Forest Regressor\n",
    "**Baseline**: Before Hyperparameter Tuning to get final surrogate model"
   ]
  },
  {
   "cell_type": "markdown",
   "metadata": {},
   "source": [
    "### Printing Testing Error For Baseline Model (Multi-Output Random Forest Regressor)"
   ]
  },
  {
   "cell_type": "code",
   "execution_count": 9,
   "metadata": {},
   "outputs": [
    {
     "name": "stdout",
     "output_type": "stream",
     "text": [
      "RMSE = 0.003868\n",
      "MAPE = 0.26595%\n"
     ]
    }
   ],
   "source": [
    "model = MultiOutputRegressor(RandomForestRegressor())\n",
    "model.fit(x_train, y_train)\n",
    "y_pred = model.predict(x_test)\n",
    "print_results(y_test, y_pred)"
   ]
  },
  {
   "cell_type": "markdown",
   "metadata": {},
   "source": [
    "### Printing Training Error for Baseline Model"
   ]
  },
  {
   "cell_type": "code",
   "execution_count": 10,
   "metadata": {},
   "outputs": [
    {
     "name": "stdout",
     "output_type": "stream",
     "text": [
      "RMSE = 0.003604\n",
      "MAPE = 0.14107%\n"
     ]
    }
   ],
   "source": [
    "y_pred_train = model.predict(x_train)\n",
    "print_results(y_train, y_pred_train)"
   ]
  },
  {
   "cell_type": "markdown",
   "metadata": {},
   "source": [
    "### Setting Up Optuna Study for Baseline Model"
   ]
  },
  {
   "cell_type": "code",
   "execution_count": 11,
   "metadata": {},
   "outputs": [],
   "source": [
    "ResponseVector = Tuple[float, float, float, float, float, float]\n",
    "ObjectiveFunction = Callable[[optuna.Trial], ResponseVector]\n",
    "\n",
    "\n",
    "def create_objective(model: MultiOutputRegressor) -> ObjectiveFunction:\n",
    "    def objective(trial: optuna.Trial) -> ResponseVector:\n",
    "        x = [\n",
    "            trial.suggest_float(\"Conductivity\", 61.32085384, 109.7652427),\n",
    "            trial.suggest_float(\"CycleNumber\", 2, 6),\n",
    "            trial.suggest_float(\"Porosity\", 0.7217427, 0.949060441),\n",
    "            trial.suggest_float(\"Permeability\", 4.40E-12, 1.14E-09),\n",
    "            trial.suggest_float(\"AverageFiberDiameter\", 1.00E-05, 2.00E-05),\n",
    "            trial.suggest_float(\"MeanPoreDiameter\", 0.0001, 0.000198985)\n",
    "        ]\n",
    "        x = pd.DataFrame([x], columns=features)\n",
    "        y = model.predict(x)\n",
    "        return tuple(y.ravel())\n",
    "\n",
    "    return objective"
   ]
  },
  {
   "cell_type": "code",
   "execution_count": 13,
   "metadata": {},
   "outputs": [],
   "source": [
    "study = optuna.study.create_study(\n",
    "    storage=\"sqlite:///2022_10_23_MultiOutputRegressor_RFR.db\",\n",
    "    sampler=optuna.samplers.NSGAIISampler(),\n",
    "    study_name=\"OptunaTrial_107_RFR\",\n",
    "    load_if_exists=True,\n",
    "    directions=[\"maximize\" for _ in range(len(targets))],\n",
    ")"
   ]
  },
  {
   "cell_type": "code",
   "execution_count": 14,
   "metadata": {},
   "outputs": [],
   "source": [
    "model = MultiOutputRegressor(RandomForestRegressor())\n",
    "model.fit(x_train, y_train)\n",
    "objective_function = create_objective(model)"
   ]
  },
  {
   "cell_type": "code",
   "execution_count": 15,
   "metadata": {},
   "outputs": [
    {
     "name": "stderr",
     "output_type": "stream",
     "text": [
      "/opt/anaconda3/envs/PythonTutorials/lib/python3.7/site-packages/optuna/progress_bar.py:47: ExperimentalWarning: Progress bar is experimental (supported from v1.2.0). The interface can change in the future.\n",
      "  self._init_valid()\n"
     ]
    },
    {
     "data": {
      "application/vnd.jupyter.widget-view+json": {
       "model_id": "56462f3fdc0d443db59d0c974ff6dd46",
       "version_major": 2,
       "version_minor": 0
      },
      "text/plain": [
       "  0%|          | 0/250 [00:00<?, ?it/s]"
      ]
     },
     "metadata": {},
     "output_type": "display_data"
    }
   ],
   "source": [
    "study.optimize(objective_function, n_trials=250, show_progress_bar=True)"
   ]
  },
  {
   "cell_type": "code",
   "execution_count": 16,
   "metadata": {},
   "outputs": [],
   "source": [
    "def frozen_trials_to_frame(trials: List[FrozenTrial]) -> pd.DataFrame:\n",
    "    return pd.DataFrame([frozen_trial_to_dict(trial) for trial in trials])\n",
    "\n",
    "\n",
    "def frozen_trial_to_dict(trial: FrozenTrial) -> Dict[str, Any]:\n",
    "    return {\n",
    "        \"number\": trial.number,\n",
    "        \"state\": trial.state,\n",
    "        \"values\": trial.values,\n",
    "        \"datetime_start\": trial.datetime_start,\n",
    "        \"datetime_complete\": trial.datetime_complete,\n",
    "        \"params\": trial.params,\n",
    "        \"distributions\": trial.distributions,\n",
    "        \"user_attrs\": trial.user_attrs,\n",
    "        \"system_attrs\": trial.system_attrs,\n",
    "        \"intermediate_values\": trial.intermediate_values,\n",
    "    }"
   ]
  },
  {
   "cell_type": "code",
   "execution_count": 17,
   "metadata": {},
   "outputs": [
    {
     "data": {
      "text/plain": [
       "{'Conductivity': 73.6244231257345,\n",
       " 'CycleNumber': 2.5886459106689785,\n",
       " 'Porosity': 0.918729326383119,\n",
       " 'Permeability': 3.115785549347731e-10,\n",
       " 'AverageFiberDiameter': 1.3038991904651788e-05,\n",
       " 'MeanPoreDiameter': 0.00016026759788531175}"
      ]
     },
     "execution_count": 17,
     "metadata": {},
     "output_type": "execute_result"
    }
   ],
   "source": [
    "trials = frozen_trials_to_frame(study.get_trials())\n",
    "trials = trials.loc[trials[\"state\"] == TrialState.COMPLETE]\n",
    "trials[\"max_value\"] = trials[\"values\"].apply(np.max)\n",
    "trials[\"mean_value\"] = trials[\"values\"].apply(np.mean)\n",
    "trials.sort_values(by=[\"max_value\"], ascending=False, inplace=True)\n",
    "trials.iloc[0].loc[\"params\"]"
   ]
  },
  {
   "cell_type": "code",
   "execution_count": 18,
   "metadata": {},
   "outputs": [
    {
     "data": {
      "text/plain": [
       "170    {'Conductivity': 73.6244231257345, 'CycleNumbe...\n",
       "137    {'Conductivity': 86.72104003106753, 'CycleNumb...\n",
       "247    {'Conductivity': 72.7363516837437, 'CycleNumbe...\n",
       "227    {'Conductivity': 106.4103303560874, 'CycleNumb...\n",
       "239    {'Conductivity': 75.97312322253465, 'CycleNumb...\n",
       "39     {'Conductivity': 72.7363516837437, 'CycleNumbe...\n",
       "233    {'Conductivity': 106.4103303560874, 'CycleNumb...\n",
       "76     {'Conductivity': 86.72104003106753, 'CycleNumb...\n",
       "183    {'Conductivity': 72.7363516837437, 'CycleNumbe...\n",
       "199    {'Conductivity': 90.24420233635182, 'CycleNumb...\n",
       "Name: params, dtype: object"
      ]
     },
     "execution_count": 18,
     "metadata": {},
     "output_type": "execute_result"
    }
   ],
   "source": [
    "trials.params.iloc[:10]"
   ]
  },
  {
   "cell_type": "code",
   "execution_count": 19,
   "metadata": {},
   "outputs": [
    {
     "data": {
      "text/html": [
       "<div>\n",
       "<style scoped>\n",
       "    .dataframe tbody tr th:only-of-type {\n",
       "        vertical-align: middle;\n",
       "    }\n",
       "\n",
       "    .dataframe tbody tr th {\n",
       "        vertical-align: top;\n",
       "    }\n",
       "\n",
       "    .dataframe thead th {\n",
       "        text-align: right;\n",
       "    }\n",
       "</style>\n",
       "<table border=\"1\" class=\"dataframe\">\n",
       "  <thead>\n",
       "    <tr style=\"text-align: right;\">\n",
       "      <th></th>\n",
       "      <th>Conductivity</th>\n",
       "      <th>CycleNumber</th>\n",
       "      <th>Porosity</th>\n",
       "      <th>Permeability</th>\n",
       "      <th>AverageFiberDiameter</th>\n",
       "      <th>MeanPoreDiameter</th>\n",
       "    </tr>\n",
       "  </thead>\n",
       "  <tbody>\n",
       "    <tr>\n",
       "      <th>170</th>\n",
       "      <td>73.624423</td>\n",
       "      <td>2.588646</td>\n",
       "      <td>0.918729</td>\n",
       "      <td>3.115786e-10</td>\n",
       "      <td>0.000013</td>\n",
       "      <td>0.000160</td>\n",
       "    </tr>\n",
       "    <tr>\n",
       "      <th>137</th>\n",
       "      <td>86.721040</td>\n",
       "      <td>3.594741</td>\n",
       "      <td>0.799127</td>\n",
       "      <td>8.102601e-10</td>\n",
       "      <td>0.000012</td>\n",
       "      <td>0.000151</td>\n",
       "    </tr>\n",
       "    <tr>\n",
       "      <th>247</th>\n",
       "      <td>72.736352</td>\n",
       "      <td>2.798944</td>\n",
       "      <td>0.927858</td>\n",
       "      <td>8.900789e-10</td>\n",
       "      <td>0.000018</td>\n",
       "      <td>0.000160</td>\n",
       "    </tr>\n",
       "    <tr>\n",
       "      <th>227</th>\n",
       "      <td>106.410330</td>\n",
       "      <td>3.594741</td>\n",
       "      <td>0.799127</td>\n",
       "      <td>8.102601e-10</td>\n",
       "      <td>0.000012</td>\n",
       "      <td>0.000111</td>\n",
       "    </tr>\n",
       "    <tr>\n",
       "      <th>239</th>\n",
       "      <td>75.973123</td>\n",
       "      <td>3.594741</td>\n",
       "      <td>0.925584</td>\n",
       "      <td>1.024343e-09</td>\n",
       "      <td>0.000020</td>\n",
       "      <td>0.000189</td>\n",
       "    </tr>\n",
       "    <tr>\n",
       "      <th>39</th>\n",
       "      <td>72.736352</td>\n",
       "      <td>3.803226</td>\n",
       "      <td>0.927858</td>\n",
       "      <td>8.900789e-10</td>\n",
       "      <td>0.000018</td>\n",
       "      <td>0.000132</td>\n",
       "    </tr>\n",
       "    <tr>\n",
       "      <th>233</th>\n",
       "      <td>106.410330</td>\n",
       "      <td>2.558359</td>\n",
       "      <td>0.940242</td>\n",
       "      <td>8.466539e-10</td>\n",
       "      <td>0.000013</td>\n",
       "      <td>0.000160</td>\n",
       "    </tr>\n",
       "    <tr>\n",
       "      <th>76</th>\n",
       "      <td>86.721040</td>\n",
       "      <td>3.594741</td>\n",
       "      <td>0.799127</td>\n",
       "      <td>7.254447e-10</td>\n",
       "      <td>0.000012</td>\n",
       "      <td>0.000164</td>\n",
       "    </tr>\n",
       "    <tr>\n",
       "      <th>183</th>\n",
       "      <td>72.736352</td>\n",
       "      <td>5.947160</td>\n",
       "      <td>0.927858</td>\n",
       "      <td>2.364692e-10</td>\n",
       "      <td>0.000019</td>\n",
       "      <td>0.000151</td>\n",
       "    </tr>\n",
       "    <tr>\n",
       "      <th>199</th>\n",
       "      <td>90.244202</td>\n",
       "      <td>2.588646</td>\n",
       "      <td>0.940242</td>\n",
       "      <td>3.115786e-10</td>\n",
       "      <td>0.000013</td>\n",
       "      <td>0.000160</td>\n",
       "    </tr>\n",
       "  </tbody>\n",
       "</table>\n",
       "</div>"
      ],
      "text/plain": [
       "     Conductivity  CycleNumber  Porosity  Permeability  AverageFiberDiameter  \\\n",
       "170     73.624423     2.588646  0.918729  3.115786e-10              0.000013   \n",
       "137     86.721040     3.594741  0.799127  8.102601e-10              0.000012   \n",
       "247     72.736352     2.798944  0.927858  8.900789e-10              0.000018   \n",
       "227    106.410330     3.594741  0.799127  8.102601e-10              0.000012   \n",
       "239     75.973123     3.594741  0.925584  1.024343e-09              0.000020   \n",
       "39      72.736352     3.803226  0.927858  8.900789e-10              0.000018   \n",
       "233    106.410330     2.558359  0.940242  8.466539e-10              0.000013   \n",
       "76      86.721040     3.594741  0.799127  7.254447e-10              0.000012   \n",
       "183     72.736352     5.947160  0.927858  2.364692e-10              0.000019   \n",
       "199     90.244202     2.588646  0.940242  3.115786e-10              0.000013   \n",
       "\n",
       "     MeanPoreDiameter  \n",
       "170          0.000160  \n",
       "137          0.000151  \n",
       "247          0.000160  \n",
       "227          0.000111  \n",
       "239          0.000189  \n",
       "39           0.000132  \n",
       "233          0.000160  \n",
       "76           0.000164  \n",
       "183          0.000151  \n",
       "199          0.000160  "
      ]
     },
     "execution_count": 19,
     "metadata": {},
     "output_type": "execute_result"
    }
   ],
   "source": [
    "top_ten_design_params = trials.params.iloc[:10]\n",
    "top_ten_design_params = pd.DataFrame.from_records(top_ten_design_params.to_list(), index=top_ten_design_params.index)\n",
    "top_ten_design_params"
   ]
  },
  {
   "cell_type": "code",
   "execution_count": 20,
   "metadata": {},
   "outputs": [
    {
     "data": {
      "text/html": [
       "<div>\n",
       "<style scoped>\n",
       "    .dataframe tbody tr th:only-of-type {\n",
       "        vertical-align: middle;\n",
       "    }\n",
       "\n",
       "    .dataframe tbody tr th {\n",
       "        vertical-align: top;\n",
       "    }\n",
       "\n",
       "    .dataframe thead th {\n",
       "        text-align: right;\n",
       "    }\n",
       "</style>\n",
       "<table border=\"1\" class=\"dataframe\">\n",
       "  <thead>\n",
       "    <tr style=\"text-align: right;\">\n",
       "      <th></th>\n",
       "      <th>VoltageEfficiency</th>\n",
       "      <th>CoulombicEfficiency</th>\n",
       "      <th>EnergyEfficiency</th>\n",
       "    </tr>\n",
       "  </thead>\n",
       "  <tbody>\n",
       "    <tr>\n",
       "      <th>170</th>\n",
       "      <td>0.748313</td>\n",
       "      <td>0.961205</td>\n",
       "      <td>0.717977</td>\n",
       "    </tr>\n",
       "    <tr>\n",
       "      <th>137</th>\n",
       "      <td>0.751533</td>\n",
       "      <td>0.961067</td>\n",
       "      <td>0.727792</td>\n",
       "    </tr>\n",
       "    <tr>\n",
       "      <th>247</th>\n",
       "      <td>0.748498</td>\n",
       "      <td>0.961041</td>\n",
       "      <td>0.718681</td>\n",
       "    </tr>\n",
       "    <tr>\n",
       "      <th>227</th>\n",
       "      <td>0.757507</td>\n",
       "      <td>0.960985</td>\n",
       "      <td>0.731158</td>\n",
       "    </tr>\n",
       "    <tr>\n",
       "      <th>239</th>\n",
       "      <td>0.749043</td>\n",
       "      <td>0.960855</td>\n",
       "      <td>0.719346</td>\n",
       "    </tr>\n",
       "    <tr>\n",
       "      <th>39</th>\n",
       "      <td>0.749132</td>\n",
       "      <td>0.960146</td>\n",
       "      <td>0.719428</td>\n",
       "    </tr>\n",
       "    <tr>\n",
       "      <th>233</th>\n",
       "      <td>0.758560</td>\n",
       "      <td>0.959837</td>\n",
       "      <td>0.726276</td>\n",
       "    </tr>\n",
       "    <tr>\n",
       "      <th>76</th>\n",
       "      <td>0.751448</td>\n",
       "      <td>0.959678</td>\n",
       "      <td>0.727155</td>\n",
       "    </tr>\n",
       "    <tr>\n",
       "      <th>183</th>\n",
       "      <td>0.748694</td>\n",
       "      <td>0.959669</td>\n",
       "      <td>0.715766</td>\n",
       "    </tr>\n",
       "    <tr>\n",
       "      <th>199</th>\n",
       "      <td>0.755793</td>\n",
       "      <td>0.959639</td>\n",
       "      <td>0.720360</td>\n",
       "    </tr>\n",
       "  </tbody>\n",
       "</table>\n",
       "</div>"
      ],
      "text/plain": [
       "     VoltageEfficiency  CoulombicEfficiency  EnergyEfficiency\n",
       "170           0.748313             0.961205          0.717977\n",
       "137           0.751533             0.961067          0.727792\n",
       "247           0.748498             0.961041          0.718681\n",
       "227           0.757507             0.960985          0.731158\n",
       "239           0.749043             0.960855          0.719346\n",
       "39            0.749132             0.960146          0.719428\n",
       "233           0.758560             0.959837          0.726276\n",
       "76            0.751448             0.959678          0.727155\n",
       "183           0.748694             0.959669          0.715766\n",
       "199           0.755793             0.959639          0.720360"
      ]
     },
     "execution_count": 20,
     "metadata": {},
     "output_type": "execute_result"
    }
   ],
   "source": [
    "pd.DataFrame(model.predict(top_ten_design_params), columns=targets, index=top_ten_design_params.index)"
   ]
  },
  {
   "cell_type": "markdown",
   "metadata": {},
   "source": [
    "\n",
    "# Hyperparameter Tuning Using Bayesian Methods and NSGA-II Optimizer"
   ]
  },
  {
   "cell_type": "markdown",
   "metadata": {},
   "source": [
    "### Setting up Optuna Study with the Hyperparameters to find the set of Hyperparameters that has the lowest MAPE"
   ]
  },
  {
   "cell_type": "code",
   "execution_count": 22,
   "metadata": {},
   "outputs": [],
   "source": [
    "def hyperparameter_objective(trial: optuna.Trial) -> float:\n",
    "    hyperparams = {\n",
    "        \"min_samples_leaf\": trial.suggest_int(\"min_samples_leaf\", 1, 50),\n",
    "        \"min_samples_split\": trial.suggest_int(\"min_samples_split\", 2, 200),\n",
    "        \"max_depth\": trial.suggest_int(\"max_depth\", 1, 50),\n",
    "        \"max_features\": trial.suggest_categorical(\"max_features\", [\"sqrt\", \"log2\",None])\n",
    "    }\n",
    "\n",
    "    model = MultiOutputRegressor(RandomForestRegressor(\n",
    "            n_estimators=300,\n",
    "            random_state=RANDOM_STATE,\n",
    "            **hyperparams,\n",
    "        )\n",
    "    )\n",
    "    model.fit(x_train, y_train)\n",
    "\n",
    "    y_pred = model.predict(x_test)\n",
    "    MAPE = mean_absolute_percentage_error(\n",
    "        y_test, y_pred, multioutput=\"uniform_average\"#, squared=False\n",
    "    )\n",
    "    return MAPE\n",
    "\n"
   ]
  },
  {
   "cell_type": "code",
   "execution_count": 23,
   "metadata": {},
   "outputs": [],
   "source": [
    "model_selection_study = optuna.study.create_study(\n",
    "    storage=\"sqlite:///model_selection.db\",\n",
    "    sampler=optuna.samplers.NSGAIISampler(),\n",
    "    study_name=\"OptunaTrial_107_RFR\",\n",
    "    load_if_exists=True,\n",
    "    direction=\"minimize\",\n",
    ")"
   ]
  },
  {
   "cell_type": "code",
   "execution_count": 24,
   "metadata": {},
   "outputs": [
    {
     "name": "stderr",
     "output_type": "stream",
     "text": [
      "/opt/anaconda3/envs/PythonTutorials/lib/python3.7/site-packages/optuna/progress_bar.py:47: ExperimentalWarning: Progress bar is experimental (supported from v1.2.0). The interface can change in the future.\n",
      "  self._init_valid()\n"
     ]
    },
    {
     "data": {
      "application/vnd.jupyter.widget-view+json": {
       "model_id": "40110942cd9344fca93fc2d4357c444f",
       "version_major": 2,
       "version_minor": 0
      },
      "text/plain": [
       "  0%|          | 0/200 [00:00<?, ?it/s]"
      ]
     },
     "metadata": {},
     "output_type": "display_data"
    }
   ],
   "source": [
    "model_selection_study.optimize(\n",
    "    hyperparameter_objective, n_trials=200, show_progress_bar=True\n",
    ")"
   ]
  },
  {
   "cell_type": "markdown",
   "metadata": {},
   "source": [
    "### Printing the Optimized Hyperparameter Combination for Multi-Output RFR\n",
    "\n",
    "Make sure that `ascending=True` because you want to get the hyperparameter combinations that are for the lowest MAPE"
   ]
  },
  {
   "cell_type": "code",
   "execution_count": 25,
   "metadata": {},
   "outputs": [
    {
     "data": {
      "text/plain": [
       "{'min_samples_leaf': 2,\n",
       " 'min_samples_split': 7,\n",
       " 'max_depth': 33,\n",
       " 'max_features': None}"
      ]
     },
     "execution_count": 25,
     "metadata": {},
     "output_type": "execute_result"
    }
   ],
   "source": [
    "trials = frozen_trials_to_frame(model_selection_study.get_trials())\n",
    "trials = trials.loc[trials[\"state\"] == TrialState.COMPLETE]\n",
    "trials[\"values\"] = trials[\"values\"].apply(lambda x: x[0])\n",
    "trials.sort_values(by=[\"values\"], ascending=True, inplace=True)\n",
    "trials.iloc[0].loc[\"params\"]"
   ]
  },
  {
   "cell_type": "markdown",
   "metadata": {},
   "source": [
    "### Printing the Training Error and Testing Error for the Surrogate model \n",
    "**Surrogate Model**: Machine learning model with optimized set of hyperparameters"
   ]
  },
  {
   "cell_type": "code",
   "execution_count": 26,
   "metadata": {},
   "outputs": [
    {
     "name": "stdout",
     "output_type": "stream",
     "text": [
      "RMSE = 0.003414\n",
      "MAPE = 0.26137%\n"
     ]
    }
   ],
   "source": [
    "best_model = MultiOutputRegressor(\n",
    "    RandomForestRegressor(\n",
    "        n_estimators=300,\n",
    "        random_state=RANDOM_STATE,\n",
    "        **trials.iloc[0].loc[\"params\"],\n",
    "    )\n",
    ")\n",
    "best_model.fit(x_train, y_train)\n",
    "y_pred_test = best_model.predict(x_test)\n",
    "print_results(y_test, y_pred_test)"
   ]
  },
  {
   "cell_type": "code",
   "execution_count": 27,
   "metadata": {},
   "outputs": [
    {
     "name": "stdout",
     "output_type": "stream",
     "text": [
      "RMSE = 0.006764\n",
      "MAPE = 0.26267%\n"
     ]
    }
   ],
   "source": [
    "y_pred_train = best_model.predict(x_train)\n",
    "print_results(y_train, y_pred_train)"
   ]
  },
  {
   "cell_type": "code",
   "execution_count": 28,
   "metadata": {},
   "outputs": [
    {
     "data": {
      "text/plain": [
       "{'estimator__min_samples_leaf': [2],\n",
       " 'estimator__min_samples_split': [7],\n",
       " 'estimator__max_depth': [33],\n",
       " 'estimator__max_features': [None]}"
      ]
     },
     "execution_count": 28,
     "metadata": {},
     "output_type": "execute_result"
    }
   ],
   "source": [
    "parameters = trials.iloc[0].loc[\"params\"]\n",
    "parameters = {f\"estimator__{k}\": [v] for k,v in parameters.items()}\n",
    "parameters"
   ]
  },
  {
   "cell_type": "code",
   "execution_count": 29,
   "metadata": {},
   "outputs": [],
   "source": [
    "from sklearn.model_selection import GridSearchCV"
   ]
  },
  {
   "cell_type": "code",
   "execution_count": 30,
   "metadata": {},
   "outputs": [
    {
     "data": {
      "text/plain": [
       "sklearn.ensemble._forest.RandomForestRegressor"
      ]
     },
     "execution_count": 30,
     "metadata": {},
     "output_type": "execute_result"
    }
   ],
   "source": [
    "RandomForestRegressor"
   ]
  },
  {
   "cell_type": "code",
   "execution_count": 31,
   "metadata": {},
   "outputs": [
    {
     "data": {
      "text/plain": [
       "GridSearchCV(estimator=MultiOutputRegressor(estimator=RandomForestRegressor()),\n",
       "             param_grid={'estimator__max_depth': [33],\n",
       "                         'estimator__max_features': [None],\n",
       "                         'estimator__min_samples_leaf': [2],\n",
       "                         'estimator__min_samples_split': [7]})"
      ]
     },
     "execution_count": 31,
     "metadata": {},
     "output_type": "execute_result"
    }
   ],
   "source": [
    "grid_search = GridSearchCV(MultiOutputRegressor(RandomForestRegressor()), parameters)\n",
    "grid_search"
   ]
  },
  {
   "cell_type": "code",
   "execution_count": 32,
   "metadata": {},
   "outputs": [
    {
     "data": {
      "text/plain": [
       "GridSearchCV(estimator=MultiOutputRegressor(estimator=RandomForestRegressor()),\n",
       "             param_grid={'estimator__max_depth': [33],\n",
       "                         'estimator__max_features': [None],\n",
       "                         'estimator__min_samples_leaf': [2],\n",
       "                         'estimator__min_samples_split': [7]})"
      ]
     },
     "execution_count": 32,
     "metadata": {},
     "output_type": "execute_result"
    }
   ],
   "source": [
    "grid_search.fit(data[features], data[targets])"
   ]
  },
  {
   "cell_type": "code",
   "execution_count": 45,
   "metadata": {},
   "outputs": [
    {
     "data": {
      "text/html": [
       "<div>\n",
       "<style scoped>\n",
       "    .dataframe tbody tr th:only-of-type {\n",
       "        vertical-align: middle;\n",
       "    }\n",
       "\n",
       "    .dataframe tbody tr th {\n",
       "        vertical-align: top;\n",
       "    }\n",
       "\n",
       "    .dataframe thead th {\n",
       "        text-align: right;\n",
       "    }\n",
       "</style>\n",
       "<table border=\"1\" class=\"dataframe\">\n",
       "  <thead>\n",
       "    <tr style=\"text-align: right;\">\n",
       "      <th></th>\n",
       "      <th>0</th>\n",
       "    </tr>\n",
       "  </thead>\n",
       "  <tbody>\n",
       "    <tr>\n",
       "      <th>mean_fit_time</th>\n",
       "      <td>0.429506</td>\n",
       "    </tr>\n",
       "    <tr>\n",
       "      <th>std_fit_time</th>\n",
       "      <td>0.009786</td>\n",
       "    </tr>\n",
       "    <tr>\n",
       "      <th>mean_score_time</th>\n",
       "      <td>0.028945</td>\n",
       "    </tr>\n",
       "    <tr>\n",
       "      <th>std_score_time</th>\n",
       "      <td>0.001787</td>\n",
       "    </tr>\n",
       "    <tr>\n",
       "      <th>param_estimator__max_depth</th>\n",
       "      <td>33</td>\n",
       "    </tr>\n",
       "    <tr>\n",
       "      <th>param_estimator__max_features</th>\n",
       "      <td>None</td>\n",
       "    </tr>\n",
       "    <tr>\n",
       "      <th>param_estimator__min_samples_leaf</th>\n",
       "      <td>2</td>\n",
       "    </tr>\n",
       "    <tr>\n",
       "      <th>param_estimator__min_samples_split</th>\n",
       "      <td>7</td>\n",
       "    </tr>\n",
       "    <tr>\n",
       "      <th>params</th>\n",
       "      <td>{'estimator__max_depth': 33, 'estimator__max_f...</td>\n",
       "    </tr>\n",
       "    <tr>\n",
       "      <th>split0_test_score</th>\n",
       "      <td>0.480926</td>\n",
       "    </tr>\n",
       "    <tr>\n",
       "      <th>split1_test_score</th>\n",
       "      <td>-0.064334</td>\n",
       "    </tr>\n",
       "    <tr>\n",
       "      <th>split2_test_score</th>\n",
       "      <td>0.678854</td>\n",
       "    </tr>\n",
       "    <tr>\n",
       "      <th>split3_test_score</th>\n",
       "      <td>0.39821</td>\n",
       "    </tr>\n",
       "    <tr>\n",
       "      <th>split4_test_score</th>\n",
       "      <td>0.331645</td>\n",
       "    </tr>\n",
       "    <tr>\n",
       "      <th>mean_test_score</th>\n",
       "      <td>0.36506</td>\n",
       "    </tr>\n",
       "    <tr>\n",
       "      <th>std_test_score</th>\n",
       "      <td>0.24433</td>\n",
       "    </tr>\n",
       "    <tr>\n",
       "      <th>rank_test_score</th>\n",
       "      <td>1</td>\n",
       "    </tr>\n",
       "  </tbody>\n",
       "</table>\n",
       "</div>"
      ],
      "text/plain": [
       "                                                                                    0\n",
       "mean_fit_time                                                                0.429506\n",
       "std_fit_time                                                                 0.009786\n",
       "mean_score_time                                                              0.028945\n",
       "std_score_time                                                               0.001787\n",
       "param_estimator__max_depth                                                         33\n",
       "param_estimator__max_features                                                    None\n",
       "param_estimator__min_samples_leaf                                                   2\n",
       "param_estimator__min_samples_split                                                  7\n",
       "params                              {'estimator__max_depth': 33, 'estimator__max_f...\n",
       "split0_test_score                                                            0.480926\n",
       "split1_test_score                                                           -0.064334\n",
       "split2_test_score                                                            0.678854\n",
       "split3_test_score                                                             0.39821\n",
       "split4_test_score                                                            0.331645\n",
       "mean_test_score                                                               0.36506\n",
       "std_test_score                                                                0.24433\n",
       "rank_test_score                                                                     1"
      ]
     },
     "execution_count": 45,
     "metadata": {},
     "output_type": "execute_result"
    }
   ],
   "source": [
    "pd.DataFrame(grid_search.cv_results_).T"
   ]
  },
  {
   "cell_type": "markdown",
   "metadata": {},
   "source": [
    "## Setting Up Study to find Optimal Electrode Parameter Combinations using the Surrogate Model"
   ]
  },
  {
   "cell_type": "code",
   "execution_count": 34,
   "metadata": {},
   "outputs": [],
   "source": [
    "ResponseVectorOpt = Tuple[float, float, float, float, float, float]\n",
    "ObjectiveFunctionOpt = Callable[[optuna.Trial], ResponseVectorOpt]\n",
    "\n",
    "\n",
    "def create_objective(model: MultiOutputRegressor) -> ObjectiveFunctionOpt:\n",
    "    def objective(trial: optuna.Trial) -> ResponseVectorOpt:\n",
    "        x = [\n",
    "            trial.suggest_float(\"Conductivity\", 61.32085384, 109.7652427),\n",
    "            trial.suggest_float(\"CycleNumber\", 2, 6),\n",
    "            trial.suggest_float(\"Porosity\", 0.7217427, 0.949060441),\n",
    "            trial.suggest_float(\"Permeability\", 4.40E-12, 1.14E-09),\n",
    "            trial.suggest_float(\"AverageFiberDiameter\", 1.00E-05, 2.00E-05),\n",
    "            trial.suggest_float(\"MeanPoreDiameter\", 0.0001, 0.000198985)\n",
    "        ]\n",
    "        x = pd.DataFrame([x], columns=features)\n",
    "        y = model.predict(x)\n",
    "        return tuple(y.ravel())\n",
    "\n",
    "    return objective"
   ]
  },
  {
   "cell_type": "code",
   "execution_count": 35,
   "metadata": {},
   "outputs": [],
   "source": [
    "study = optuna.study.create_study(\n",
    "    storage=\"sqlite:///2022_10_23_MultiOutputRegressor_RFROpt.db\",\n",
    "    sampler=optuna.samplers.NSGAIISampler(),\n",
    "    study_name=\"OptunaTrial_107_RFROpt\",\n",
    "    load_if_exists=True,\n",
    "    directions=[\"maximize\" for _ in range(len(targets))],\n",
    ")"
   ]
  },
  {
   "cell_type": "code",
   "execution_count": 36,
   "metadata": {},
   "outputs": [
    {
     "data": {
      "text/plain": [
       "{'estimator__min_samples_leaf': [2],\n",
       " 'estimator__min_samples_split': [7],\n",
       " 'estimator__max_depth': [33],\n",
       " 'estimator__max_features': [None]}"
      ]
     },
     "execution_count": 36,
     "metadata": {},
     "output_type": "execute_result"
    }
   ],
   "source": [
    "{'estimator__min_samples_leaf': [2],\n",
    " 'estimator__min_samples_split': [7],\n",
    " 'estimator__max_depth': [33],\n",
    " 'estimator__max_features': [None]}"
   ]
  },
  {
   "cell_type": "markdown",
   "metadata": {},
   "source": [
    "### Re-Training the Multi-Output Random Forest Regressor with the Optimized Set of Hyperparameters"
   ]
  },
  {
   "cell_type": "code",
   "execution_count": 37,
   "metadata": {},
   "outputs": [],
   "source": [
    "model_opt = MultiOutputRegressor(RandomForestRegressor(min_samples_leaf=2,\n",
    "                                                       min_samples_split=7,\n",
    "                                                       max_depth=33,\n",
    "                                                       max_features=None))\n",
    "model_opt.fit(x_train, y_train)\n",
    "objective_function = create_objective(model)"
   ]
  },
  {
   "cell_type": "code",
   "execution_count": 38,
   "metadata": {},
   "outputs": [
    {
     "name": "stderr",
     "output_type": "stream",
     "text": [
      "/opt/anaconda3/envs/PythonTutorials/lib/python3.7/site-packages/optuna/progress_bar.py:47: ExperimentalWarning: Progress bar is experimental (supported from v1.2.0). The interface can change in the future.\n",
      "  self._init_valid()\n"
     ]
    },
    {
     "data": {
      "application/vnd.jupyter.widget-view+json": {
       "model_id": "0ec65515d9994e33ad76dee6ee6a1425",
       "version_major": 2,
       "version_minor": 0
      },
      "text/plain": [
       "  0%|          | 0/200 [00:00<?, ?it/s]"
      ]
     },
     "metadata": {},
     "output_type": "display_data"
    }
   ],
   "source": [
    "study.optimize(objective_function, n_trials=200, show_progress_bar=True)"
   ]
  },
  {
   "cell_type": "code",
   "execution_count": 39,
   "metadata": {},
   "outputs": [],
   "source": [
    "def frozen_trials_to_frame(trials: List[FrozenTrial]) -> pd.DataFrame:\n",
    "    return pd.DataFrame([frozen_trial_to_dict(trial) for trial in trials])\n",
    "\n",
    "\n",
    "def frozen_trial_to_dict(trial: FrozenTrial) -> Dict[str, Any]:\n",
    "    return {\n",
    "        \"number\": trial.number,\n",
    "        \"state\": trial.state,\n",
    "        \"values\": trial.values,\n",
    "        \"datetime_start\": trial.datetime_start,\n",
    "        \"datetime_complete\": trial.datetime_complete,\n",
    "        \"params\": trial.params,\n",
    "        \"distributions\": trial.distributions,\n",
    "        \"user_attrs\": trial.user_attrs,\n",
    "        \"system_attrs\": trial.system_attrs,\n",
    "        \"intermediate_values\": trial.intermediate_values,\n",
    "    }"
   ]
  },
  {
   "cell_type": "markdown",
   "metadata": {},
   "source": [
    "Make sure that `ascending=False` to make sure that the combinations that have the maximum efficiencies are first"
   ]
  },
  {
   "cell_type": "code",
   "execution_count": 40,
   "metadata": {},
   "outputs": [
    {
     "data": {
      "text/plain": [
       "{'Conductivity': 68.05050615267574,\n",
       " 'CycleNumber': 2.6357128241244334,\n",
       " 'Porosity': 0.8319368227891215,\n",
       " 'Permeability': 6.273619339271112e-10,\n",
       " 'AverageFiberDiameter': 1.1049550849906381e-05,\n",
       " 'MeanPoreDiameter': 0.00011320738640583128}"
      ]
     },
     "execution_count": 40,
     "metadata": {},
     "output_type": "execute_result"
    }
   ],
   "source": [
    "trials = frozen_trials_to_frame(study.get_trials())\n",
    "trials = trials.loc[trials[\"state\"] == TrialState.COMPLETE]\n",
    "trials[\"max_value\"] = trials[\"values\"].apply(np.max)\n",
    "trials[\"mean_value\"] = trials[\"values\"].apply(np.mean)\n",
    "trials.sort_values(by=[\"max_value\"], ascending=False, inplace=True)\n",
    "trials.iloc[0].loc[\"params\"]"
   ]
  },
  {
   "cell_type": "code",
   "execution_count": 41,
   "metadata": {},
   "outputs": [
    {
     "data": {
      "text/plain": [
       "126    {'Conductivity': 68.05050615267574, 'CycleNumb...\n",
       "187    {'Conductivity': 109.44057615512519, 'CycleNum...\n",
       "30     {'Conductivity': 68.05050615267574, 'CycleNumb...\n",
       "181    {'Conductivity': 68.05050615267574, 'CycleNumb...\n",
       "116    {'Conductivity': 68.05050615267574, 'CycleNumb...\n",
       "153    {'Conductivity': 104.4504757080266, 'CycleNumb...\n",
       "179    {'Conductivity': 64.61162265472316, 'CycleNumb...\n",
       "165    {'Conductivity': 104.4504757080266, 'CycleNumb...\n",
       "99     {'Conductivity': 64.61162265472316, 'CycleNumb...\n",
       "121    {'Conductivity': 107.03699746026189, 'CycleNum...\n",
       "Name: params, dtype: object"
      ]
     },
     "execution_count": 41,
     "metadata": {},
     "output_type": "execute_result"
    }
   ],
   "source": [
    "trials.params.iloc[:10]"
   ]
  },
  {
   "cell_type": "code",
   "execution_count": 42,
   "metadata": {},
   "outputs": [
    {
     "data": {
      "text/html": [
       "<div>\n",
       "<style scoped>\n",
       "    .dataframe tbody tr th:only-of-type {\n",
       "        vertical-align: middle;\n",
       "    }\n",
       "\n",
       "    .dataframe tbody tr th {\n",
       "        vertical-align: top;\n",
       "    }\n",
       "\n",
       "    .dataframe thead th {\n",
       "        text-align: right;\n",
       "    }\n",
       "</style>\n",
       "<table border=\"1\" class=\"dataframe\">\n",
       "  <thead>\n",
       "    <tr style=\"text-align: right;\">\n",
       "      <th></th>\n",
       "      <th>Conductivity</th>\n",
       "      <th>CycleNumber</th>\n",
       "      <th>Porosity</th>\n",
       "      <th>Permeability</th>\n",
       "      <th>AverageFiberDiameter</th>\n",
       "      <th>MeanPoreDiameter</th>\n",
       "    </tr>\n",
       "  </thead>\n",
       "  <tbody>\n",
       "    <tr>\n",
       "      <th>126</th>\n",
       "      <td>68.050506</td>\n",
       "      <td>2.635713</td>\n",
       "      <td>0.831937</td>\n",
       "      <td>6.273619e-10</td>\n",
       "      <td>0.000011</td>\n",
       "      <td>0.000113</td>\n",
       "    </tr>\n",
       "    <tr>\n",
       "      <th>187</th>\n",
       "      <td>109.440576</td>\n",
       "      <td>3.482428</td>\n",
       "      <td>0.831937</td>\n",
       "      <td>3.891610e-10</td>\n",
       "      <td>0.000020</td>\n",
       "      <td>0.000113</td>\n",
       "    </tr>\n",
       "    <tr>\n",
       "      <th>30</th>\n",
       "      <td>68.050506</td>\n",
       "      <td>2.635713</td>\n",
       "      <td>0.831937</td>\n",
       "      <td>6.273619e-10</td>\n",
       "      <td>0.000011</td>\n",
       "      <td>0.000143</td>\n",
       "    </tr>\n",
       "    <tr>\n",
       "      <th>181</th>\n",
       "      <td>68.050506</td>\n",
       "      <td>2.635713</td>\n",
       "      <td>0.831937</td>\n",
       "      <td>2.442856e-10</td>\n",
       "      <td>0.000011</td>\n",
       "      <td>0.000143</td>\n",
       "    </tr>\n",
       "    <tr>\n",
       "      <th>116</th>\n",
       "      <td>68.050506</td>\n",
       "      <td>2.635713</td>\n",
       "      <td>0.831937</td>\n",
       "      <td>3.891610e-10</td>\n",
       "      <td>0.000011</td>\n",
       "      <td>0.000143</td>\n",
       "    </tr>\n",
       "    <tr>\n",
       "      <th>153</th>\n",
       "      <td>104.450476</td>\n",
       "      <td>3.269604</td>\n",
       "      <td>0.934283</td>\n",
       "      <td>9.383683e-10</td>\n",
       "      <td>0.000013</td>\n",
       "      <td>0.000160</td>\n",
       "    </tr>\n",
       "    <tr>\n",
       "      <th>179</th>\n",
       "      <td>64.611623</td>\n",
       "      <td>2.858764</td>\n",
       "      <td>0.894429</td>\n",
       "      <td>1.055328e-09</td>\n",
       "      <td>0.000019</td>\n",
       "      <td>0.000183</td>\n",
       "    </tr>\n",
       "    <tr>\n",
       "      <th>165</th>\n",
       "      <td>104.450476</td>\n",
       "      <td>2.858764</td>\n",
       "      <td>0.831937</td>\n",
       "      <td>7.548453e-10</td>\n",
       "      <td>0.000011</td>\n",
       "      <td>0.000176</td>\n",
       "    </tr>\n",
       "    <tr>\n",
       "      <th>99</th>\n",
       "      <td>64.611623</td>\n",
       "      <td>4.297634</td>\n",
       "      <td>0.894429</td>\n",
       "      <td>1.055328e-09</td>\n",
       "      <td>0.000019</td>\n",
       "      <td>0.000189</td>\n",
       "    </tr>\n",
       "    <tr>\n",
       "      <th>121</th>\n",
       "      <td>107.036997</td>\n",
       "      <td>2.235964</td>\n",
       "      <td>0.831937</td>\n",
       "      <td>1.134441e-09</td>\n",
       "      <td>0.000020</td>\n",
       "      <td>0.000143</td>\n",
       "    </tr>\n",
       "  </tbody>\n",
       "</table>\n",
       "</div>"
      ],
      "text/plain": [
       "     Conductivity  CycleNumber  Porosity  Permeability  AverageFiberDiameter  \\\n",
       "126     68.050506     2.635713  0.831937  6.273619e-10              0.000011   \n",
       "187    109.440576     3.482428  0.831937  3.891610e-10              0.000020   \n",
       "30      68.050506     2.635713  0.831937  6.273619e-10              0.000011   \n",
       "181     68.050506     2.635713  0.831937  2.442856e-10              0.000011   \n",
       "116     68.050506     2.635713  0.831937  3.891610e-10              0.000011   \n",
       "153    104.450476     3.269604  0.934283  9.383683e-10              0.000013   \n",
       "179     64.611623     2.858764  0.894429  1.055328e-09              0.000019   \n",
       "165    104.450476     2.858764  0.831937  7.548453e-10              0.000011   \n",
       "99      64.611623     4.297634  0.894429  1.055328e-09              0.000019   \n",
       "121    107.036997     2.235964  0.831937  1.134441e-09              0.000020   \n",
       "\n",
       "     MeanPoreDiameter  \n",
       "126          0.000113  \n",
       "187          0.000113  \n",
       "30           0.000143  \n",
       "181          0.000143  \n",
       "116          0.000143  \n",
       "153          0.000160  \n",
       "179          0.000183  \n",
       "165          0.000176  \n",
       "99           0.000189  \n",
       "121          0.000143  "
      ]
     },
     "execution_count": 42,
     "metadata": {},
     "output_type": "execute_result"
    }
   ],
   "source": [
    "top_ten_design_params_tuned = trials.params.iloc[:10]\n",
    "top_ten_design_params_tuned = pd.DataFrame.from_records(top_ten_design_params_tuned.to_list(), index=top_ten_design_params_tuned.index)\n",
    "top_ten_design_params_tuned"
   ]
  },
  {
   "cell_type": "code",
   "execution_count": 43,
   "metadata": {},
   "outputs": [
    {
     "data": {
      "text/html": [
       "<div>\n",
       "<style scoped>\n",
       "    .dataframe tbody tr th:only-of-type {\n",
       "        vertical-align: middle;\n",
       "    }\n",
       "\n",
       "    .dataframe tbody tr th {\n",
       "        vertical-align: top;\n",
       "    }\n",
       "\n",
       "    .dataframe thead th {\n",
       "        text-align: right;\n",
       "    }\n",
       "</style>\n",
       "<table border=\"1\" class=\"dataframe\">\n",
       "  <thead>\n",
       "    <tr style=\"text-align: right;\">\n",
       "      <th></th>\n",
       "      <th>VoltageEfficiency</th>\n",
       "      <th>CoulombicEfficiency</th>\n",
       "      <th>EnergyEfficiency</th>\n",
       "    </tr>\n",
       "  </thead>\n",
       "  <tbody>\n",
       "    <tr>\n",
       "      <th>126</th>\n",
       "      <td>0.744390</td>\n",
       "      <td>0.959706</td>\n",
       "      <td>0.716197</td>\n",
       "    </tr>\n",
       "    <tr>\n",
       "      <th>187</th>\n",
       "      <td>0.758466</td>\n",
       "      <td>0.959614</td>\n",
       "      <td>0.720156</td>\n",
       "    </tr>\n",
       "    <tr>\n",
       "      <th>30</th>\n",
       "      <td>0.744365</td>\n",
       "      <td>0.959554</td>\n",
       "      <td>0.716394</td>\n",
       "    </tr>\n",
       "    <tr>\n",
       "      <th>181</th>\n",
       "      <td>0.744365</td>\n",
       "      <td>0.959554</td>\n",
       "      <td>0.716394</td>\n",
       "    </tr>\n",
       "    <tr>\n",
       "      <th>116</th>\n",
       "      <td>0.744365</td>\n",
       "      <td>0.959554</td>\n",
       "      <td>0.716394</td>\n",
       "    </tr>\n",
       "    <tr>\n",
       "      <th>153</th>\n",
       "      <td>0.758636</td>\n",
       "      <td>0.959362</td>\n",
       "      <td>0.725989</td>\n",
       "    </tr>\n",
       "    <tr>\n",
       "      <th>179</th>\n",
       "      <td>0.743278</td>\n",
       "      <td>0.959360</td>\n",
       "      <td>0.708996</td>\n",
       "    </tr>\n",
       "    <tr>\n",
       "      <th>165</th>\n",
       "      <td>0.756884</td>\n",
       "      <td>0.959073</td>\n",
       "      <td>0.720131</td>\n",
       "    </tr>\n",
       "    <tr>\n",
       "      <th>99</th>\n",
       "      <td>0.742972</td>\n",
       "      <td>0.958731</td>\n",
       "      <td>0.707612</td>\n",
       "    </tr>\n",
       "    <tr>\n",
       "      <th>121</th>\n",
       "      <td>0.757328</td>\n",
       "      <td>0.958603</td>\n",
       "      <td>0.721956</td>\n",
       "    </tr>\n",
       "  </tbody>\n",
       "</table>\n",
       "</div>"
      ],
      "text/plain": [
       "     VoltageEfficiency  CoulombicEfficiency  EnergyEfficiency\n",
       "126           0.744390             0.959706          0.716197\n",
       "187           0.758466             0.959614          0.720156\n",
       "30            0.744365             0.959554          0.716394\n",
       "181           0.744365             0.959554          0.716394\n",
       "116           0.744365             0.959554          0.716394\n",
       "153           0.758636             0.959362          0.725989\n",
       "179           0.743278             0.959360          0.708996\n",
       "165           0.756884             0.959073          0.720131\n",
       "99            0.742972             0.958731          0.707612\n",
       "121           0.757328             0.958603          0.721956"
      ]
     },
     "execution_count": 43,
     "metadata": {},
     "output_type": "execute_result"
    }
   ],
   "source": [
    "pd.DataFrame(model.predict(top_ten_design_params_tuned), columns=targets, index=top_ten_design_params_tuned.index)"
   ]
  },
  {
   "cell_type": "code",
   "execution_count": null,
   "metadata": {},
   "outputs": [],
   "source": []
  }
 ],
 "metadata": {
  "kernelspec": {
   "display_name": "Python 3",
   "language": "python",
   "name": "python3"
  },
  "language_info": {
   "codemirror_mode": {
    "name": "ipython",
    "version": 3
   },
   "file_extension": ".py",
   "mimetype": "text/x-python",
   "name": "python",
   "nbconvert_exporter": "python",
   "pygments_lexer": "ipython3",
   "version": "3.8.3"
  }
 },
 "nbformat": 4,
 "nbformat_minor": 5
}
